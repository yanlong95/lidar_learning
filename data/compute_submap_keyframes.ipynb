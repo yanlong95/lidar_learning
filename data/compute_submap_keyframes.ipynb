{
 "cells": [
  {
   "metadata": {
    "ExecuteTime": {
     "end_time": "2024-06-18T09:37:16.976331Z",
     "start_time": "2024-06-18T09:37:16.972163Z"
    }
   },
   "cell_type": "code",
   "source": [
    "import os\n",
    "import faiss\n",
    "import numpy as np\n",
    "import matplotlib.pyplot as plt\n",
    "from tools.fileloader import load_xyz_rot\n",
    "from mpl_toolkits import mplot3d"
   ],
   "id": "717ee28519a7e55f",
   "outputs": [],
   "execution_count": 12
  },
  {
   "metadata": {
    "ExecuteTime": {
     "end_time": "2024-06-18T09:10:19.881560Z",
     "start_time": "2024-06-18T09:10:19.878369Z"
    }
   },
   "cell_type": "code",
   "source": [
    "seqs = [\"bomb_shelter\", \"botanical_garden\", \"bruin_plaza\", \"court_of_sciences\", \"dickson_court\", \"geo_loop\",\n",
    "        \"kerckhoff\", \"luskin\", \"royce_hall\", \"sculpture_garden\"]\n",
    "seq = seqs[2]\n",
    "\n",
    "root_folder = '/Volumes/vectr6/Dataset/overlap_transformer'\n",
    "frames_poses_path = os.path.join(root_folder, 'poses', seq, 'poses.txt')\n",
    "keyframes_poses_path = os.path.join(root_folder, 'keyframes', seq, 'poses', 'poses_kf.txt')\n",
    "overlaps_path = os.path.join(root_folder, 'overlaps', f'{seq}.bin')\n"
   ],
   "id": "c89fe6831a495d9e",
   "outputs": [],
   "execution_count": 2
  },
  {
   "metadata": {
    "ExecuteTime": {
     "end_time": "2024-06-18T09:57:27.406065Z",
     "start_time": "2024-06-18T09:57:27.031612Z"
    }
   },
   "cell_type": "code",
   "source": [
    "# load frames and keyframes positions\n",
    "xyz, _ = load_xyz_rot(frames_poses_path)\n",
    "xyz_kf, _ = load_xyz_rot(keyframes_poses_path)\n",
    "overlaps = np.fromfile(overlaps_path)\n",
    "overlaps = overlaps.reshape(-1, int(np.sqrt(len(overlaps))))\n",
    "\n",
    "# add keyframes positions to faiss (search by L2 distance)\n",
    "index = faiss.IndexFlatL2(3)\n",
    "index.add(xyz_kf)\n",
    "_, indices_euclidean = index.search(xyz, 5)\n",
    "\n",
    "# search by overlaps\n",
    "index_kf = faiss.IndexFlat(3)\n",
    "index_kf.add(xyz)\n",
    "_, indices_kf = index_kf.search(xyz_kf, 1)\n",
    "overlaps_kf = overlaps[:, indices_kf.squeeze()]\n",
    "indices_overlap = np.zeros((len(overlaps), 5), dtype=int)\n",
    "for i in range(len(overlaps)):\n",
    "    indices_i = overlaps_kf[i, :].argsort()[-5:][::-1]\n",
    "    indices_overlap[i, :] = indices_i\n"
   ],
   "id": "1d9fb80ece68823",
   "outputs": [],
   "execution_count": 37
  },
  {
   "metadata": {
    "ExecuteTime": {
     "end_time": "2024-06-18T10:01:17.385275Z",
     "start_time": "2024-06-18T09:57:33.190085Z"
    }
   },
   "cell_type": "code",
   "source": [
    "%matplotlib qt\n",
    "for i in range(xyz.shape[0]):\n",
    "    xyz_curr = xyz[i, :]\n",
    "    xyz_curr_kf = xyz_kf[indices_overlap[i, :], :]\n",
    "    \n",
    "    plt.clf()\n",
    "    plt.scatter(xyz[:, 0], xyz[:, 1])\n",
    "    plt.scatter(xyz_kf[:, 0], xyz_kf[:, 1], c='gold')\n",
    "    plt.scatter(xyz_curr_kf[:, 0], xyz_curr_kf[:, 1], c='red')\n",
    "    plt.scatter(xyz_curr[0], xyz_curr[1], c='violet')\n",
    "    plt.show()\n",
    "    plt.pause(0.01)\n"
   ],
   "id": "8376a24ca36a3817",
   "outputs": [],
   "execution_count": 38
  }
 ],
 "metadata": {
  "kernelspec": {
   "display_name": "Python 3",
   "language": "python",
   "name": "python3"
  },
  "language_info": {
   "codemirror_mode": {
    "name": "ipython",
    "version": 2
   },
   "file_extension": ".py",
   "mimetype": "text/x-python",
   "name": "python",
   "nbconvert_exporter": "python",
   "pygments_lexer": "ipython2",
   "version": "2.7.6"
  }
 },
 "nbformat": 4,
 "nbformat_minor": 5
}
