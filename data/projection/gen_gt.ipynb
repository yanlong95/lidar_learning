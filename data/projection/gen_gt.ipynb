{
 "cells": [
  {
   "cell_type": "markdown",
   "metadata": {},
   "source": [
    "# Generate the Ground Truth Overlap\n",
    "The file to generate ground truth overlaps which used in training and validation.\n"
   ]
  },
  {
   "cell_type": "code",
   "execution_count": 1,
   "metadata": {
    "ExecuteTime": {
     "end_time": "2024-03-25T09:44:02.445492Z",
     "start_time": "2024-03-25T09:44:00.334241Z"
    }
   },
   "outputs": [
    {
     "name": "stdout",
     "output_type": "stream",
     "text": [
      "Jupyter environment detected. Enabling Open3D WebVisualizer.\n",
      "[Open3D INFO] WebRTC GUI backend enabled.\n",
      "[Open3D INFO] WebRTCWindowSystem: HTTP handshake server disabled.\n"
     ]
    }
   ],
   "source": [
    "import os\n",
    "import yaml\n",
    "import tqdm\n",
    "import numpy as np\n",
    "import matplotlib.pyplot as plt\n",
    "\n",
    "from normalize_data import normalize_data\n",
    "from tools.fileloader import load_xyz_rot\n",
    "from tools.training_tools import splitting\n",
    "\n",
    "# auto-reload external modules\n",
    "%load_ext autoreload\n",
    "%autoreload 2\n"
   ]
  },
  {
   "cell_type": "markdown",
   "source": [],
   "metadata": {
    "collapsed": false
   }
  },
  {
   "cell_type": "markdown",
   "metadata": {},
   "source": [
    "## Load Configuration\n",
    "Modify the configuration in *config/gen_gt_overlap.yml*."
   ]
  },
  {
   "cell_type": "code",
   "execution_count": 2,
   "metadata": {
    "ExecuteTime": {
     "end_time": "2024-03-25T09:44:09.032909Z",
     "start_time": "2024-03-25T09:44:07.882979Z"
    }
   },
   "outputs": [],
   "source": [
    "# load config file\n",
    "config_path = '/home/vectr/PycharmProjects/lidar_learning/configs/config.yml'\n",
    "# config_path = '/Users/yanlong/PycharmProjects/lidar_learning/configs/config.yml'\n",
    "parameters_path = '/home/vectr/PycharmProjects/lidar_learning/configs/parameters.yml'\n",
    "# parameters_path = '/Users/yanlong/PycharmProjects/lidar_learning/configs/parameters.yml'\n",
    "\n",
    "config = yaml.safe_load(open(config_path))\n",
    "parameters = yaml.safe_load(open(parameters_path))\n",
    "\n",
    "overlaps_folder = config['data_root']['overlaps']               # folder contain overlaps_matrix.npy\n",
    "poses_folder_path = config['data_root']['poses']                # folder of positions used for trajectory plot (to select overlap_thresh)\n",
    "keyframes_folder_path = config['data_root']['keyframes']        # folder of keyframes (to load keyframe position for plotting)\n",
    "gt_overlaps_folder = config['data_root']['gt_overlaps']         # folder to save the overlaps and reformatted overlaps_table\n",
    "lidar_params = parameters['lidar']                              # params for lidar\n",
    "\n",
    "seq = config['seqs']['all'][6]                                  # sequences \n"
   ]
  },
  {
   "cell_type": "markdown",
   "metadata": {},
   "source": [
    "## Generate Overlap and Yaw Ground Truth Array"
   ]
  },
  {
   "cell_type": "code",
   "execution_count": 4,
   "metadata": {
    "ExecuteTime": {
     "end_time": "2024-03-25T09:45:16.516667Z",
     "start_time": "2024-03-25T09:45:16.464374Z"
    }
   },
   "outputs": [
    {
     "name": "stdout",
     "output_type": "stream",
     "text": [
      "Matrix shape: (2900, 2900)\n",
      "Number of positions: (2900, 3).\n",
      "Number of keyframes: (53, 3).\n"
     ]
    }
   ],
   "source": [
    "# load overlap matrix\n",
    "overlaps_matrix_path = os.path.join(overlaps_folder, f'{seq}.bin')\n",
    "overlaps_matrix = np.fromfile(overlaps_matrix_path)\n",
    "overlaps_matrix = overlaps_matrix.reshape(-1, int(np.sqrt(overlaps_matrix.shape)))\n",
    "print(f'Matrix shape: {overlaps_matrix.shape}')\n",
    "\n",
    "poses_path = os.path.join(poses_folder_path, seq, 'poses.txt')\n",
    "keyframes_poses_path = os.path.join(keyframes_folder_path, seq, 'poses', 'poses_kf.txt')\n",
    "# poses_path = '/Users/yanlong/Desktop/overlaps/poses.txt'\n",
    "xyz, rot = load_xyz_rot(poses_path)\n",
    "xyz_kf, rot_kf = load_xyz_rot(keyframes_poses_path)\n",
    "print(f'Number of positions: {xyz.shape}.')\n",
    "print(f'Number of keyframes: {xyz_kf.shape}.')\n"
   ]
  },
  {
   "cell_type": "code",
   "execution_count": 5,
   "outputs": [
    {
     "name": "stderr",
     "output_type": "stream",
     "text": [
      "  2%|▏         | 52/2900 [00:04<03:40, 12.92it/s]\n",
      "\n",
      "KeyboardInterrupt\n",
      "\n"
     ]
    }
   ],
   "source": [
    "# plt.scatter(xyz[:, 0], xyz[:, 1])\n",
    "# plt.show()\n",
    "overlap_thresh = 0.3\n",
    "\n",
    "%matplotlib qt\n",
    "num_scans = xyz.shape[0]\n",
    "for i in tqdm.tqdm(range(num_scans)):\n",
    "# i = 4900\n",
    "    overlaps_i = overlaps_matrix[i, :]\n",
    "    xyz_pos_i = xyz[overlaps_i >= overlap_thresh, :]\n",
    "    xyz_neg_i = xyz[overlaps_i < overlap_thresh, :]\n",
    "    \n",
    "    plt.clf()\n",
    "    plt.scatter(xyz[:, 0], xyz[:, 1], c='b', label='trajectory')\n",
    "    plt.scatter(xyz_pos_i[:, 0], xyz_pos_i[:, 1], c='y', label='positive')\n",
    "    # plt.scatter(xyz_neg_i[:, 0], xyz_neg_i[:, 1], c='r', label='negative')\n",
    "    plt.scatter(xyz_kf[:, 0], xyz_kf[:, 1], c='pink', label='keyframes')\n",
    "    plt.scatter(xyz[i, 0], xyz[i, 1], c='g', label=f'scan {i+1}')\n",
    "    plt.legend()\n",
    "    plt.show()\n",
    "    plt.pause(0.0001)\n"
   ],
   "metadata": {
    "collapsed": false,
    "ExecuteTime": {
     "end_time": "2024-03-25T09:45:24.223648Z",
     "start_time": "2024-03-25T09:45:19.432279Z"
    }
   }
  },
  {
   "cell_type": "markdown",
   "source": [
    "## Reformat Overlaps Matrix (to GT_Mapping)"
   ],
   "metadata": {
    "collapsed": false
   }
  },
  {
   "cell_type": "code",
   "outputs": [
    {
     "name": "stderr",
     "output_type": "stream",
     "text": [
      "100%|██████████| 2900/2900 [00:00<00:00, 30138.66it/s]\n"
     ]
    },
    {
     "name": "stdout",
     "output_type": "stream",
     "text": [
      "Creating new folder /media/vectr/T9/Dataset/overlap_transformer/gt_overlaps/kerckhoff.\n",
      "Number of pairs: (8410000, 4)\n"
     ]
    }
   ],
   "source": [
    "# save overlaps information in a table, col0: source scan path, col1: reference scan path, col2: overlap between source and reference scans, col3: overlap threshold\n",
    "overlaps = []\n",
    "overlaps_table = np.empty((num_scans**2, 4))\n",
    "\n",
    "for i in tqdm.tqdm(range(num_scans)):\n",
    "    overlaps_i = np.zeros((num_scans, 4))\n",
    "    overlaps_i[:, 0] = np.ones(num_scans, dtype=int) * i\n",
    "    overlaps_i[:, 1] = np.arange(num_scans, dtype=int)\n",
    "    overlaps_i[:, 2] = overlaps_matrix[i, :]\n",
    "    overlaps_i[:, 3] = np.ones(num_scans, dtype=float) * overlap_thresh\n",
    "    overlaps.append(overlaps_i)\n",
    "    overlaps_table[num_scans*i:num_scans*(i+1), :] = overlaps_i\n",
    "\n",
    "# save overlaps\n",
    "gt_overlaps_saving_path = os.path.join(gt_overlaps_folder, seq)\n",
    "if not os.path.exists(gt_overlaps_saving_path):\n",
    "    print(f'Creating new folder {gt_overlaps_saving_path}.')\n",
    "    os.makedirs(gt_overlaps_saving_path)\n",
    "np.savez(os.path.join(gt_overlaps_saving_path, 'overlaps'), overlaps)\n",
    "\n",
    "print(f'Number of pairs: {overlaps_table.shape}')"
   ],
   "metadata": {
    "collapsed": false,
    "ExecuteTime": {
     "end_time": "2024-03-25T09:21:13.145320Z",
     "start_time": "2024-03-25T09:21:12.786553Z"
    }
   },
   "execution_count": 68
  },
  {
   "cell_type": "markdown",
   "metadata": {},
   "source": [
    "## Histogram of Overlaps Distribution\n",
    "Plot the histogram which is used to normalize the dataset."
   ]
  },
  {
   "cell_type": "code",
   "execution_count": 69,
   "metadata": {
    "ExecuteTime": {
     "end_time": "2024-03-25T09:21:24.048581Z",
     "start_time": "2024-03-25T09:21:23.880733Z"
    }
   },
   "outputs": [
    {
     "data": {
      "text/plain": "<Figure size 640x480 with 1 Axes>",
      "image/png": "[encoded data removed]"
     },
     "metadata": {},
     "output_type": "display_data"
    }
   ],
   "source": [
    "%matplotlib inline\n",
    "\n",
    "# only show tail bins\n",
    "min_overlap_show = 0.2\n",
    "max_overlap_show = 1.0\n",
    "overlaps = overlaps_table[:,2]\n",
    "\n",
    "_, _, patches = plt.hist(overlaps[(overlaps <= max_overlap_show) & (overlaps >= min_overlap_show)], int((max_overlap_show-min_overlap_show)/0.1), width=0.085)\n",
    "plt.bar_label(patches)\n",
    "plt.title('Overlap Distribution')\n",
    "plt.xlabel('Overlap')\n",
    "plt.ylabel('Number of Pairs')\n",
    "plt.show()"
   ]
  },
  {
   "cell_type": "markdown",
   "metadata": {},
   "source": [
    "## Normalize Overlaps Distribution\n",
    "We need balance the number of positive and negative data pairs for training. Based on the ***Histogram*** above, select a threshold (0.5 by default) to reduce the number of negative data pairs. Moreover, we can control the number of pairs to adjust the training time."
   ]
  },
  {
   "cell_type": "code",
   "execution_count": 72,
   "metadata": {
    "ExecuteTime": {
     "end_time": "2024-03-25T09:22:15.499216Z",
     "start_time": "2024-03-25T09:22:13.994705Z"
    }
   },
   "outputs": [
    {
     "name": "stderr",
     "output_type": "stream",
     "text": [
      "100%|██████████| 2900/2900 [00:01<00:00, 2117.00it/s]\n"
     ]
    },
    {
     "data": {
      "text/plain": "<Figure size 640x480 with 1 Axes>",
      "image/png": "[encoded data removed]"
     },
     "metadata": {},
     "output_type": "display_data"
    },
    {
     "name": "stdout",
     "output_type": "stream",
     "text": [
      "Overlaps_table_normalized shape: (116000, 4)\n",
      "Number of positive pairs: 58000.\n",
      "Number of negative pairs: 58000.\n",
      "Select 1.38% data\n",
      "Average 20.00 positive data per frame\n",
      "Average 20.00 negative data per frame\n"
     ]
    }
   ],
   "source": [
    "neg_pos_threshold = round(overlap_thresh / 0.1)\n",
    "max_num_pos_each_scan = 20\n",
    "min_num_neg_each_scan = 5   # make sure to roughly balance the number of positive and negative pairs\n",
    "\n",
    "overlaps_table_normalized, pos_indices, neg_indices = normalize_data(overlaps_table, max_pos_thresh=max_num_pos_each_scan, min_neg_thresh=min_num_neg_each_scan, neg_pos_threshold=neg_pos_threshold, enhance_yaw=False)\n",
    "overlaps_normalized = overlaps_table_normalized[:,2]\n",
    "_, _, patches = plt.hist(overlaps_normalized, 10, width=0.085)\n",
    "plt.bar_label(patches)\n",
    "plt.title('Overlap Distribution')\n",
    "plt.xlabel('Overlap')\n",
    "plt.ylabel('Number of Pairs')\n",
    "plt.show()\n",
    "\n",
    "percent_keep = format(len(overlaps_table_normalized) / len(overlaps_table) * 100, \".2f\")\n",
    "num_pos = np.sum(overlaps_normalized >= neg_pos_threshold / 10)\n",
    "num_neg = np.sum(overlaps_normalized < neg_pos_threshold / 10)\n",
    "\n",
    "print(f\"Overlaps_table_normalized shape: {overlaps_table_normalized.shape}\")\n",
    "print(f\"Number of positive pairs: {num_pos}.\")\n",
    "print(f\"Number of negative pairs: {num_neg}.\")\n",
    "print(f\"Select {percent_keep}% data\")\n",
    "print(f\"Average {num_pos / np.sqrt(len(overlaps_table)):.2f} positive data per frame\")\n",
    "print(f\"Average {num_neg / np.sqrt(len(overlaps)):.2f} negative data per frame\")\n"
   ]
  },
  {
   "cell_type": "markdown",
   "metadata": {},
   "source": [
    "## Generate Training and Validation Dataset\n",
    "Split the dataset to training and validation sets."
   ]
  },
  {
   "cell_type": "code",
   "execution_count": 73,
   "metadata": {
    "ExecuteTime": {
     "end_time": "2024-03-25T09:22:26.755924Z",
     "start_time": "2024-03-25T09:22:22.781069Z"
    }
   },
   "outputs": [
    {
     "name": "stdout",
     "output_type": "stream",
     "text": [
      "Finish saving the ground truth data for training and testing at: /media/vectr/T9/Dataset/overlap_transformer/gt_overlaps/kerckhoff \n",
      "\n",
      "Training set shape: (104400, 4)\n",
      "Validation set shape: (11600, 4)\n",
      "Distribution Norm set shape: (116000,)\n"
     ]
    }
   ],
   "source": [
    "# split ground truth for training and validation\n",
    "train_data, valid_data, _ = splitting(overlaps_table_normalized, valid_size=0.1, test_size=0.0)\n",
    "\n",
    "# saving folder\n",
    "dst_folder = gt_overlaps_saving_path\n",
    "\n",
    "# training data\n",
    "train_seq = np.empty((train_data.shape[0], 2), dtype=object)\n",
    "train_seq[:] = seq\n",
    "np.savez_compressed(dst_folder + f'/train_set', overlaps=train_data, seq=train_seq)\n",
    "\n",
    "# validation data\n",
    "validation_seq = np.empty((valid_data.shape[0], 2), dtype=object)\n",
    "validation_seq[:] = seq\n",
    "np.savez_compressed(dst_folder + f'/valid_set', overlaps=valid_data, seq=validation_seq)\n",
    "\n",
    "# normalized ground truth data\n",
    "overlaps_table_normalized_seq = np.empty((overlaps_table_normalized.shape[0], 2), dtype=object)\n",
    "overlaps_table_normalized_seq[:] = seq\n",
    "np.savez_compressed(dst_folder + f'/overlaps_table_normalized', overlaps=overlaps_table_normalized, seq=overlaps_table_normalized_seq)\n",
    "\n",
    "# raw ground truth data, fully mapping, could be used for testing\n",
    "overlaps_table_seq = np.empty((overlaps_table.shape[0], 2), dtype=object)\n",
    "overlaps_table_seq[:] = seq\n",
    "np.savez_compressed(dst_folder + f'/overlaps_table', overlaps=overlaps_table, seq=overlaps_table_seq)\n",
    "\n",
    "print(f'Finish saving the ground truth data for training and testing at: {os.path.abspath(dst_folder)} \\n')\n",
    "print(f\"Training set shape: {train_data.shape}\")\n",
    "print(f\"Validation set shape: {valid_data.shape}\")\n",
    "print(f'Distribution Norm set shape: {overlaps_normalized.shape}')\n"
   ]
  },
  {
   "cell_type": "markdown",
   "metadata": {},
   "source": [
    "## Visualize Generate Dataset (Option)\n",
    "Visualize the generated overlaps for a frame."
   ]
  },
  {
   "cell_type": "code",
   "execution_count": 55,
   "metadata": {
    "ExecuteTime": {
     "end_time": "2024-03-25T09:10:53.452310Z",
     "start_time": "2024-03-25T09:09:27.819081Z"
    }
   },
   "outputs": [
    {
     "name": "stderr",
     "output_type": "stream",
     "text": [
      " 18%|█▊        | 927/5207 [01:25<06:35, 10.83it/s]\n"
     ]
    },
    {
     "ename": "KeyboardInterrupt",
     "evalue": "",
     "output_type": "error",
     "traceback": [
      "\u001B[0;31m---------------------------------------------------------------------------\u001B[0m",
      "\u001B[0;31mKeyboardInterrupt\u001B[0m                         Traceback (most recent call last)",
      "Cell \u001B[0;32mIn[55], line 17\u001B[0m\n\u001B[1;32m     15\u001B[0m plt\u001B[38;5;241m.\u001B[39mscatter(xyz[i, \u001B[38;5;241m0\u001B[39m], xyz[i, \u001B[38;5;241m1\u001B[39m], c\u001B[38;5;241m=\u001B[39m\u001B[38;5;124m'\u001B[39m\u001B[38;5;124mg\u001B[39m\u001B[38;5;124m'\u001B[39m, label\u001B[38;5;241m=\u001B[39m\u001B[38;5;124mf\u001B[39m\u001B[38;5;124m'\u001B[39m\u001B[38;5;124mscan \u001B[39m\u001B[38;5;132;01m{\u001B[39;00mi\u001B[38;5;241m+\u001B[39m\u001B[38;5;241m1\u001B[39m\u001B[38;5;132;01m}\u001B[39;00m\u001B[38;5;124m'\u001B[39m)\n\u001B[1;32m     16\u001B[0m plt\u001B[38;5;241m.\u001B[39mlegend()\n\u001B[0;32m---> 17\u001B[0m \u001B[43mplt\u001B[49m\u001B[38;5;241;43m.\u001B[39;49m\u001B[43mshow\u001B[49m\u001B[43m(\u001B[49m\u001B[43m)\u001B[49m\n\u001B[1;32m     18\u001B[0m plt\u001B[38;5;241m.\u001B[39mpause(\u001B[38;5;241m0.0001\u001B[39m)\n",
      "File \u001B[0;32m~/anaconda3/envs/lidar_learning/lib/python3.10/site-packages/matplotlib/pyplot.py:446\u001B[0m, in \u001B[0;36mshow\u001B[0;34m(*args, **kwargs)\u001B[0m\n\u001B[1;32m    402\u001B[0m \u001B[38;5;250m\u001B[39m\u001B[38;5;124;03m\"\"\"\u001B[39;00m\n\u001B[1;32m    403\u001B[0m \u001B[38;5;124;03mDisplay all open figures.\u001B[39;00m\n\u001B[1;32m    404\u001B[0m \n\u001B[0;32m   (...)\u001B[0m\n\u001B[1;32m    443\u001B[0m \u001B[38;5;124;03mexplicitly there.\u001B[39;00m\n\u001B[1;32m    444\u001B[0m \u001B[38;5;124;03m\"\"\"\u001B[39;00m\n\u001B[1;32m    445\u001B[0m _warn_if_gui_out_of_main_thread()\n\u001B[0;32m--> 446\u001B[0m \u001B[38;5;28;01mreturn\u001B[39;00m \u001B[43m_get_backend_mod\u001B[49m\u001B[43m(\u001B[49m\u001B[43m)\u001B[49m\u001B[38;5;241;43m.\u001B[39;49m\u001B[43mshow\u001B[49m\u001B[43m(\u001B[49m\u001B[38;5;241;43m*\u001B[39;49m\u001B[43margs\u001B[49m\u001B[43m,\u001B[49m\u001B[43m \u001B[49m\u001B[38;5;241;43m*\u001B[39;49m\u001B[38;5;241;43m*\u001B[39;49m\u001B[43mkwargs\u001B[49m\u001B[43m)\u001B[49m\n",
      "File \u001B[0;32m~/anaconda3/envs/lidar_learning/lib/python3.10/site-packages/matplotlib/backend_bases.py:3607\u001B[0m, in \u001B[0;36m_Backend.show\u001B[0;34m(cls, block)\u001B[0m\n\u001B[1;32m   3605\u001B[0m \u001B[38;5;28;01mfor\u001B[39;00m manager \u001B[38;5;129;01min\u001B[39;00m managers:\n\u001B[1;32m   3606\u001B[0m     \u001B[38;5;28;01mtry\u001B[39;00m:\n\u001B[0;32m-> 3607\u001B[0m         \u001B[43mmanager\u001B[49m\u001B[38;5;241;43m.\u001B[39;49m\u001B[43mshow\u001B[49m\u001B[43m(\u001B[49m\u001B[43m)\u001B[49m  \u001B[38;5;66;03m# Emits a warning for non-interactive backend.\u001B[39;00m\n\u001B[1;32m   3608\u001B[0m     \u001B[38;5;28;01mexcept\u001B[39;00m NonGuiException \u001B[38;5;28;01mas\u001B[39;00m exc:\n\u001B[1;32m   3609\u001B[0m         _api\u001B[38;5;241m.\u001B[39mwarn_external(\u001B[38;5;28mstr\u001B[39m(exc))\n",
      "File \u001B[0;32m~/anaconda3/envs/lidar_learning/lib/python3.10/site-packages/matplotlib/backends/backend_qt.py:608\u001B[0m, in \u001B[0;36mFigureManagerQT.show\u001B[0;34m(self)\u001B[0m\n\u001B[1;32m    606\u001B[0m \u001B[38;5;28mself\u001B[39m\u001B[38;5;241m.\u001B[39mwindow\u001B[38;5;241m.\u001B[39mshow()\n\u001B[1;32m    607\u001B[0m \u001B[38;5;28;01mif\u001B[39;00m mpl\u001B[38;5;241m.\u001B[39mrcParams[\u001B[38;5;124m'\u001B[39m\u001B[38;5;124mfigure.raise_window\u001B[39m\u001B[38;5;124m'\u001B[39m]:\n\u001B[0;32m--> 608\u001B[0m     \u001B[38;5;28;43mself\u001B[39;49m\u001B[38;5;241;43m.\u001B[39;49m\u001B[43mwindow\u001B[49m\u001B[38;5;241;43m.\u001B[39;49m\u001B[43mactivateWindow\u001B[49m\u001B[43m(\u001B[49m\u001B[43m)\u001B[49m\n\u001B[1;32m    609\u001B[0m     \u001B[38;5;28mself\u001B[39m\u001B[38;5;241m.\u001B[39mwindow\u001B[38;5;241m.\u001B[39mraise_()\n",
      "\u001B[0;31mKeyboardInterrupt\u001B[0m: "
     ]
    }
   ],
   "source": [
    "%matplotlib qt\n",
    "num_scans = xyz.shape[0]\n",
    "for i in tqdm.tqdm(range(num_scans)):\n",
    "    overlaps_i = overlaps_matrix[i, :]\n",
    "    curr_pos_indices = pos_indices[i]\n",
    "    curr_neg_indices = neg_indices[i]\n",
    "    xyz_curr_pos = xyz[curr_pos_indices, :]\n",
    "    xyz_curr_neg = xyz[curr_neg_indices, :]\n",
    "    \n",
    "    plt.clf()\n",
    "    plt.scatter(xyz[:, 0], xyz[:, 1], c='b', label='trajectory')\n",
    "    plt.scatter(xyz_curr_pos[:, 0], xyz_curr_pos[:, 1], c='y', label='positive')\n",
    "    plt.scatter(xyz_curr_neg[:, 0], xyz_curr_neg[:, 1], c='r', label='negative')\n",
    "    # plt.scatter(xyz_kf[:, 0], xyz_kf[:, 1], c='pink', label='keyframes')\n",
    "    plt.scatter(xyz[i, 0], xyz[i, 1], c='g', label=f'scan {i+1}')\n",
    "    plt.legend()\n",
    "    plt.show()\n",
    "    plt.pause(0.0001)\n"
   ]
  },
  {
   "cell_type": "code",
   "execution_count": null,
   "outputs": [],
   "source": [
    "# format the data in table to load data efficiently\n",
    "# max_num_pos = 100, max_num_neg = 100, col0: curr_scan_id, col1: seq, col2:overlap_threshold, col3: num_pos, col4: num_neg, col5-104: pos_ids, col105-204: neg_ids\n",
    "# (add overlaps in col205:404 if needed)\n",
    "# matrix shape: (num_scans, 5+max_num_pos+max_num_neg)\n",
    "overlaps_full = -np.ones((num_scans, 205))\n",
    "overlaps_train = -np.ones((train_data.shape[0], 205))\n",
    "overlaps_valid = -np.ones((valid_data.shape[0], 205))\n"
   ],
   "metadata": {
    "collapsed": false
   }
  }
 ],
 "metadata": {
  "kernelspec": {
   "name": "python3",
   "language": "python",
   "display_name": "Python 3 (ipykernel)"
  },
  "language_info": {
   "codemirror_mode": {
    "name": "ipython",
    "version": 3
   },
   "file_extension": ".py",
   "mimetype": "text/x-python",
   "name": "python",
   "nbconvert_exporter": "python",
   "pygments_lexer": "ipython3",
   "version": "3.10.11"
  }
 },
 "nbformat": 4,
 "nbformat_minor": 1
}
