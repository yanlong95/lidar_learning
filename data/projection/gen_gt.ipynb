{
 "cells": [
  {
   "metadata": {},
   "cell_type": "markdown",
   "source": [
    "# Generate the Ground Truth Overlap\n",
    "The file to generate ground truth overlaps which used in training and validation.\n"
   ]
  },
  {
   "cell_type": "code",
   "metadata": {
    "ExecuteTime": {
     "end_time": "2024-05-10T21:25:27.991239Z",
     "start_time": "2024-05-10T21:25:25.549338Z"
    }
   },
   "source": [
    "import os\n",
    "import yaml\n",
    "import tqdm\n",
    "import numpy as np\n",
    "import matplotlib.pyplot as plt\n",
    "\n",
    "from normalize_data import normalize_data\n",
    "from tools.fileloader import load_xyz_rot\n",
    "from tools.training_tools import splitting\n",
    "\n",
    "# auto-reload external modules\n",
    "%load_ext autoreload\n",
    "%autoreload 2\n"
   ],
   "outputs": [
    {
     "name": "stdout",
     "output_type": "stream",
     "text": [
      "Jupyter environment detected. Enabling Open3D WebVisualizer.\n",
      "[Open3D INFO] WebRTC GUI backend enabled.\n",
      "[Open3D INFO] WebRTCWindowSystem: HTTP handshake server disabled.\n"
     ]
    }
   ],
   "execution_count": 1
  },
  {
   "cell_type": "markdown",
   "source": [],
   "metadata": {
    "collapsed": false
   }
  },
  {
   "cell_type": "markdown",
   "metadata": {},
   "source": [
    "## Load Configuration\n",
    "Modify the configuration in *config/gen_gt_overlap.yml*."
   ]
  },
  {
   "cell_type": "code",
   "metadata": {
    "ExecuteTime": {
     "end_time": "2024-05-10T21:56:16.098980Z",
     "start_time": "2024-05-10T21:56:16.071399Z"
    }
   },
   "source": [
    "# load config file\n",
    "config_path = '/home/vectr/PycharmProjects/lidar_learning/configs/config.yml'\n",
    "# config_path = '/Users/yanlong/PycharmProjects/lidar_learning/configs/config.yml'\n",
    "parameters_path = '/home/vectr/PycharmProjects/lidar_learning/configs/parameters.yml'\n",
    "# parameters_path = '/Users/yanlong/PycharmProjects/lidar_learning/configs/parameters.yml'\n",
    "\n",
    "config = yaml.safe_load(open(config_path))\n",
    "parameters = yaml.safe_load(open(parameters_path))\n",
    "\n",
    "overlaps_folder = config['data_root']['overlaps']               # folder contain overlaps_matrix.npy\n",
    "poses_folder_path = config['data_root']['poses']                # folder of positions used for trajectory plot (to select overlap_thresh)\n",
    "keyframes_folder_path = config['data_root']['keyframes']        # folder of keyframes (to load keyframe position for plotting)\n",
    "gt_overlaps_folder = config['data_root']['gt_overlaps']         # folder to save the overlaps and reformatted overlaps_table\n",
    "lidar_params = parameters['lidar']                              # params for lidar\n",
    "\n",
    "seq_num = 9\n",
    "seq = config['seqs']['all'][seq_num]                            # sequences \n"
   ],
   "outputs": [],
   "execution_count": 98
  },
  {
   "cell_type": "markdown",
   "metadata": {},
   "source": [
    "## Generate Overlap and Yaw Ground Truth Array"
   ]
  },
  {
   "cell_type": "code",
   "metadata": {
    "ExecuteTime": {
     "end_time": "2024-05-10T21:56:18.687242Z",
     "start_time": "2024-05-10T21:56:18.552702Z"
    }
   },
   "source": [
    "# load overlap matrix\n",
    "overlaps_matrix_path = os.path.join(overlaps_folder, f'{seq}.bin')\n",
    "overlaps_matrix = np.fromfile(overlaps_matrix_path)\n",
    "overlaps_matrix = overlaps_matrix.reshape(-1, int(np.sqrt(overlaps_matrix.shape)))\n",
    "print(f'Matrix shape: {overlaps_matrix.shape}')\n",
    "\n",
    "poses_path = os.path.join(poses_folder_path, seq, 'poses.txt')\n",
    "keyframes_poses_path = os.path.join(keyframes_folder_path, seq, 'poses', 'poses_kf.txt')\n",
    "\n",
    "xyz, rot = load_xyz_rot(poses_path)\n",
    "xyz_kf, rot_kf = load_xyz_rot(keyframes_poses_path)\n",
    "print(f'Positions: {xyz.shape}.')\n",
    "print(f'Keyframe positions: {xyz_kf.shape}.')\n"
   ],
   "outputs": [
    {
     "name": "stdout",
     "output_type": "stream",
     "text": [
      "Matrix shape: (3723, 3723)\n",
      "Positions: (3723, 3).\n",
      "Keyframe positions: (91, 3).\n"
     ]
    }
   ],
   "execution_count": 99
  },
  {
   "cell_type": "code",
   "source": [
    "# plt.scatter(xyz[:, 0], xyz[:, 1])\n",
    "# plt.show()\n",
    "\n",
    "# bomb_shelter 0.4, botanical_garden 0.3, bruin_plaza 0.35, court_of_sciences 0.35, dickson_court 0.25,\n",
    "# geo_loop 0.3, kerckhoff 0.4, luskin 0.3, royce_hall 0.2, sculpture garden 0.3\n",
    "overlap_thresh = 0.30\n",
    "\n",
    "%matplotlib qt\n",
    "num_scans = xyz.shape[0]\n",
    "for i in tqdm.tqdm(range(num_scans)):\n",
    "# i = 4900\n",
    "    overlaps_i = overlaps_matrix[i, :]\n",
    "    xyz_pos_i = xyz[overlaps_i >= overlap_thresh, :]\n",
    "    xyz_neg_i = xyz[overlaps_i < overlap_thresh, :]\n",
    "\n",
    "    plt.clf()\n",
    "    plt.scatter(xyz[:, 0], xyz[:, 1], c='b', label='trajectory')\n",
    "    plt.scatter(xyz_pos_i[:, 0], xyz_pos_i[:, 1], c='y', label='positive')\n",
    "    # plt.scatter(xyz_neg_i[:, 0], xyz_neg_i[:, 1], c='r', label='negative')\n",
    "    plt.scatter(xyz_kf[:, 0], xyz_kf[:, 1], c='pink', label='keyframes')\n",
    "    plt.scatter(xyz[i, 0], xyz[i, 1], c='g', label=f'scan {i+1}')\n",
    "    plt.legend()\n",
    "    plt.show()\n",
    "    plt.pause(0.0001)\n"
   ],
   "metadata": {
    "collapsed": false,
    "ExecuteTime": {
     "end_time": "2024-05-10T21:56:41.713301Z",
     "start_time": "2024-05-10T21:56:35.670889Z"
    }
   },
   "outputs": [
    {
     "name": "stderr",
     "output_type": "stream",
     "text": [
      "  2%|▏         | 72/3723 [00:05<04:44, 12.83it/s]\n"
     ]
    },
    {
     "ename": "KeyboardInterrupt",
     "evalue": "",
     "output_type": "error",
     "traceback": [
      "\u001B[0;31m---------------------------------------------------------------------------\u001B[0m",
      "\u001B[0;31mKeyboardInterrupt\u001B[0m                         Traceback (most recent call last)",
      "Cell \u001B[0;32mIn[101], line 17\u001B[0m\n\u001B[1;32m     14\u001B[0m xyz_neg_i \u001B[38;5;241m=\u001B[39m xyz[overlaps_i \u001B[38;5;241m<\u001B[39m overlap_thresh, :]\n\u001B[1;32m     16\u001B[0m plt\u001B[38;5;241m.\u001B[39mclf()\n\u001B[0;32m---> 17\u001B[0m \u001B[43mplt\u001B[49m\u001B[38;5;241;43m.\u001B[39;49m\u001B[43mscatter\u001B[49m\u001B[43m(\u001B[49m\u001B[43mxyz\u001B[49m\u001B[43m[\u001B[49m\u001B[43m:\u001B[49m\u001B[43m,\u001B[49m\u001B[43m \u001B[49m\u001B[38;5;241;43m0\u001B[39;49m\u001B[43m]\u001B[49m\u001B[43m,\u001B[49m\u001B[43m \u001B[49m\u001B[43mxyz\u001B[49m\u001B[43m[\u001B[49m\u001B[43m:\u001B[49m\u001B[43m,\u001B[49m\u001B[43m \u001B[49m\u001B[38;5;241;43m1\u001B[39;49m\u001B[43m]\u001B[49m\u001B[43m,\u001B[49m\u001B[43m \u001B[49m\u001B[43mc\u001B[49m\u001B[38;5;241;43m=\u001B[39;49m\u001B[38;5;124;43m'\u001B[39;49m\u001B[38;5;124;43mb\u001B[39;49m\u001B[38;5;124;43m'\u001B[39;49m\u001B[43m,\u001B[49m\u001B[43m \u001B[49m\u001B[43mlabel\u001B[49m\u001B[38;5;241;43m=\u001B[39;49m\u001B[38;5;124;43m'\u001B[39;49m\u001B[38;5;124;43mtrajectory\u001B[39;49m\u001B[38;5;124;43m'\u001B[39;49m\u001B[43m)\u001B[49m\n\u001B[1;32m     18\u001B[0m plt\u001B[38;5;241m.\u001B[39mscatter(xyz_pos_i[:, \u001B[38;5;241m0\u001B[39m], xyz_pos_i[:, \u001B[38;5;241m1\u001B[39m], c\u001B[38;5;241m=\u001B[39m\u001B[38;5;124m'\u001B[39m\u001B[38;5;124my\u001B[39m\u001B[38;5;124m'\u001B[39m, label\u001B[38;5;241m=\u001B[39m\u001B[38;5;124m'\u001B[39m\u001B[38;5;124mpositive\u001B[39m\u001B[38;5;124m'\u001B[39m)\n\u001B[1;32m     19\u001B[0m \u001B[38;5;66;03m# plt.scatter(xyz_neg_i[:, 0], xyz_neg_i[:, 1], c='r', label='negative')\u001B[39;00m\n",
      "File \u001B[0;32m~/anaconda3/envs/lidar_learning/lib/python3.10/site-packages/matplotlib/pyplot.py:2862\u001B[0m, in \u001B[0;36mscatter\u001B[0;34m(x, y, s, c, marker, cmap, norm, vmin, vmax, alpha, linewidths, edgecolors, plotnonfinite, data, **kwargs)\u001B[0m\n\u001B[1;32m   2857\u001B[0m \u001B[38;5;129m@_copy_docstring_and_deprecators\u001B[39m(Axes\u001B[38;5;241m.\u001B[39mscatter)\n\u001B[1;32m   2858\u001B[0m \u001B[38;5;28;01mdef\u001B[39;00m \u001B[38;5;21mscatter\u001B[39m(\n\u001B[1;32m   2859\u001B[0m         x, y, s\u001B[38;5;241m=\u001B[39m\u001B[38;5;28;01mNone\u001B[39;00m, c\u001B[38;5;241m=\u001B[39m\u001B[38;5;28;01mNone\u001B[39;00m, marker\u001B[38;5;241m=\u001B[39m\u001B[38;5;28;01mNone\u001B[39;00m, cmap\u001B[38;5;241m=\u001B[39m\u001B[38;5;28;01mNone\u001B[39;00m, norm\u001B[38;5;241m=\u001B[39m\u001B[38;5;28;01mNone\u001B[39;00m,\n\u001B[1;32m   2860\u001B[0m         vmin\u001B[38;5;241m=\u001B[39m\u001B[38;5;28;01mNone\u001B[39;00m, vmax\u001B[38;5;241m=\u001B[39m\u001B[38;5;28;01mNone\u001B[39;00m, alpha\u001B[38;5;241m=\u001B[39m\u001B[38;5;28;01mNone\u001B[39;00m, linewidths\u001B[38;5;241m=\u001B[39m\u001B[38;5;28;01mNone\u001B[39;00m, \u001B[38;5;241m*\u001B[39m,\n\u001B[1;32m   2861\u001B[0m         edgecolors\u001B[38;5;241m=\u001B[39m\u001B[38;5;28;01mNone\u001B[39;00m, plotnonfinite\u001B[38;5;241m=\u001B[39m\u001B[38;5;28;01mFalse\u001B[39;00m, data\u001B[38;5;241m=\u001B[39m\u001B[38;5;28;01mNone\u001B[39;00m, \u001B[38;5;241m*\u001B[39m\u001B[38;5;241m*\u001B[39mkwargs):\n\u001B[0;32m-> 2862\u001B[0m     __ret \u001B[38;5;241m=\u001B[39m \u001B[43mgca\u001B[49m\u001B[43m(\u001B[49m\u001B[43m)\u001B[49m\u001B[38;5;241m.\u001B[39mscatter(\n\u001B[1;32m   2863\u001B[0m         x, y, s\u001B[38;5;241m=\u001B[39ms, c\u001B[38;5;241m=\u001B[39mc, marker\u001B[38;5;241m=\u001B[39mmarker, cmap\u001B[38;5;241m=\u001B[39mcmap, norm\u001B[38;5;241m=\u001B[39mnorm,\n\u001B[1;32m   2864\u001B[0m         vmin\u001B[38;5;241m=\u001B[39mvmin, vmax\u001B[38;5;241m=\u001B[39mvmax, alpha\u001B[38;5;241m=\u001B[39malpha, linewidths\u001B[38;5;241m=\u001B[39mlinewidths,\n\u001B[1;32m   2865\u001B[0m         edgecolors\u001B[38;5;241m=\u001B[39medgecolors, plotnonfinite\u001B[38;5;241m=\u001B[39mplotnonfinite,\n\u001B[1;32m   2866\u001B[0m         \u001B[38;5;241m*\u001B[39m\u001B[38;5;241m*\u001B[39m({\u001B[38;5;124m\"\u001B[39m\u001B[38;5;124mdata\u001B[39m\u001B[38;5;124m\"\u001B[39m: data} \u001B[38;5;28;01mif\u001B[39;00m data \u001B[38;5;129;01mis\u001B[39;00m \u001B[38;5;129;01mnot\u001B[39;00m \u001B[38;5;28;01mNone\u001B[39;00m \u001B[38;5;28;01melse\u001B[39;00m {}), \u001B[38;5;241m*\u001B[39m\u001B[38;5;241m*\u001B[39mkwargs)\n\u001B[1;32m   2867\u001B[0m     sci(__ret)\n\u001B[1;32m   2868\u001B[0m     \u001B[38;5;28;01mreturn\u001B[39;00m __ret\n",
      "File \u001B[0;32m~/anaconda3/envs/lidar_learning/lib/python3.10/site-packages/matplotlib/pyplot.py:2309\u001B[0m, in \u001B[0;36mgca\u001B[0;34m()\u001B[0m\n\u001B[1;32m   2307\u001B[0m \u001B[38;5;129m@_copy_docstring_and_deprecators\u001B[39m(Figure\u001B[38;5;241m.\u001B[39mgca)\n\u001B[1;32m   2308\u001B[0m \u001B[38;5;28;01mdef\u001B[39;00m \u001B[38;5;21mgca\u001B[39m():\n\u001B[0;32m-> 2309\u001B[0m     \u001B[38;5;28;01mreturn\u001B[39;00m \u001B[43mgcf\u001B[49m\u001B[43m(\u001B[49m\u001B[43m)\u001B[49m\u001B[38;5;241;43m.\u001B[39;49m\u001B[43mgca\u001B[49m\u001B[43m(\u001B[49m\u001B[43m)\u001B[49m\n",
      "File \u001B[0;32m~/anaconda3/envs/lidar_learning/lib/python3.10/site-packages/matplotlib/figure.py:1660\u001B[0m, in \u001B[0;36mFigureBase.gca\u001B[0;34m(self)\u001B[0m\n\u001B[1;32m   1650\u001B[0m \u001B[38;5;250m\u001B[39m\u001B[38;5;124;03m\"\"\"\u001B[39;00m\n\u001B[1;32m   1651\u001B[0m \u001B[38;5;124;03mGet the current Axes.\u001B[39;00m\n\u001B[1;32m   1652\u001B[0m \n\u001B[0;32m   (...)\u001B[0m\n\u001B[1;32m   1657\u001B[0m \u001B[38;5;124;03mwhether `.pyplot.get_fignums()` is empty.)\u001B[39;00m\n\u001B[1;32m   1658\u001B[0m \u001B[38;5;124;03m\"\"\"\u001B[39;00m\n\u001B[1;32m   1659\u001B[0m ax \u001B[38;5;241m=\u001B[39m \u001B[38;5;28mself\u001B[39m\u001B[38;5;241m.\u001B[39m_axstack\u001B[38;5;241m.\u001B[39mcurrent()\n\u001B[0;32m-> 1660\u001B[0m \u001B[38;5;28;01mreturn\u001B[39;00m ax \u001B[38;5;28;01mif\u001B[39;00m ax \u001B[38;5;129;01mis\u001B[39;00m \u001B[38;5;129;01mnot\u001B[39;00m \u001B[38;5;28;01mNone\u001B[39;00m \u001B[38;5;28;01melse\u001B[39;00m \u001B[38;5;28;43mself\u001B[39;49m\u001B[38;5;241;43m.\u001B[39;49m\u001B[43madd_subplot\u001B[49m\u001B[43m(\u001B[49m\u001B[43m)\u001B[49m\n",
      "File \u001B[0;32m~/anaconda3/envs/lidar_learning/lib/python3.10/site-packages/matplotlib/figure.py:768\u001B[0m, in \u001B[0;36mFigureBase.add_subplot\u001B[0;34m(self, *args, **kwargs)\u001B[0m\n\u001B[1;32m    765\u001B[0m         args \u001B[38;5;241m=\u001B[39m \u001B[38;5;28mtuple\u001B[39m(\u001B[38;5;28mmap\u001B[39m(\u001B[38;5;28mint\u001B[39m, \u001B[38;5;28mstr\u001B[39m(args[\u001B[38;5;241m0\u001B[39m])))\n\u001B[1;32m    766\u001B[0m     projection_class, pkw \u001B[38;5;241m=\u001B[39m \u001B[38;5;28mself\u001B[39m\u001B[38;5;241m.\u001B[39m_process_projection_requirements(\n\u001B[1;32m    767\u001B[0m         \u001B[38;5;241m*\u001B[39margs, \u001B[38;5;241m*\u001B[39m\u001B[38;5;241m*\u001B[39mkwargs)\n\u001B[0;32m--> 768\u001B[0m     ax \u001B[38;5;241m=\u001B[39m \u001B[43mprojection_class\u001B[49m\u001B[43m(\u001B[49m\u001B[38;5;28;43mself\u001B[39;49m\u001B[43m,\u001B[49m\u001B[43m \u001B[49m\u001B[38;5;241;43m*\u001B[39;49m\u001B[43margs\u001B[49m\u001B[43m,\u001B[49m\u001B[43m \u001B[49m\u001B[38;5;241;43m*\u001B[39;49m\u001B[38;5;241;43m*\u001B[39;49m\u001B[43mpkw\u001B[49m\u001B[43m)\u001B[49m\n\u001B[1;32m    769\u001B[0m     key \u001B[38;5;241m=\u001B[39m (projection_class, pkw)\n\u001B[1;32m    770\u001B[0m \u001B[38;5;28;01mreturn\u001B[39;00m \u001B[38;5;28mself\u001B[39m\u001B[38;5;241m.\u001B[39m_add_axes_internal(ax, key)\n",
      "File \u001B[0;32m~/anaconda3/envs/lidar_learning/lib/python3.10/site-packages/matplotlib/axes/_base.py:683\u001B[0m, in \u001B[0;36m_AxesBase.__init__\u001B[0;34m(self, fig, facecolor, frameon, sharex, sharey, label, xscale, yscale, box_aspect, *args, **kwargs)\u001B[0m\n\u001B[1;32m    680\u001B[0m \u001B[38;5;28mself\u001B[39m\u001B[38;5;241m.\u001B[39mset_axisbelow(mpl\u001B[38;5;241m.\u001B[39mrcParams[\u001B[38;5;124m'\u001B[39m\u001B[38;5;124maxes.axisbelow\u001B[39m\u001B[38;5;124m'\u001B[39m])\n\u001B[1;32m    682\u001B[0m \u001B[38;5;28mself\u001B[39m\u001B[38;5;241m.\u001B[39m_rasterization_zorder \u001B[38;5;241m=\u001B[39m \u001B[38;5;28;01mNone\u001B[39;00m\n\u001B[0;32m--> 683\u001B[0m \u001B[38;5;28;43mself\u001B[39;49m\u001B[38;5;241;43m.\u001B[39;49m\u001B[43mclear\u001B[49m\u001B[43m(\u001B[49m\u001B[43m)\u001B[49m\n\u001B[1;32m    685\u001B[0m \u001B[38;5;66;03m# funcs used to format x and y - fall back on major formatters\u001B[39;00m\n\u001B[1;32m    686\u001B[0m \u001B[38;5;28mself\u001B[39m\u001B[38;5;241m.\u001B[39mfmt_xdata \u001B[38;5;241m=\u001B[39m \u001B[38;5;28;01mNone\u001B[39;00m\n",
      "File \u001B[0;32m~/anaconda3/envs/lidar_learning/lib/python3.10/site-packages/matplotlib/axes/_base.py:1395\u001B[0m, in \u001B[0;36m_AxesBase.clear\u001B[0;34m(self)\u001B[0m\n\u001B[1;32m   1393\u001B[0m     \u001B[38;5;28mself\u001B[39m\u001B[38;5;241m.\u001B[39mcla()\n\u001B[1;32m   1394\u001B[0m \u001B[38;5;28;01melse\u001B[39;00m:\n\u001B[0;32m-> 1395\u001B[0m     \u001B[38;5;28;43mself\u001B[39;49m\u001B[38;5;241;43m.\u001B[39;49m\u001B[43m__clear\u001B[49m\u001B[43m(\u001B[49m\u001B[43m)\u001B[49m\n",
      "File \u001B[0;32m~/anaconda3/envs/lidar_learning/lib/python3.10/site-packages/matplotlib/axes/_base.py:1382\u001B[0m, in \u001B[0;36m_AxesBase.__clear\u001B[0;34m(self)\u001B[0m\n\u001B[1;32m   1380\u001B[0m         \u001B[38;5;28mgetattr\u001B[39m(\u001B[38;5;28mself\u001B[39m, \u001B[38;5;124mf\u001B[39m\u001B[38;5;124m\"\u001B[39m\u001B[38;5;124mshare\u001B[39m\u001B[38;5;132;01m{\u001B[39;00mname\u001B[38;5;132;01m}\u001B[39;00m\u001B[38;5;124m\"\u001B[39m)(share)\n\u001B[1;32m   1381\u001B[0m     \u001B[38;5;28;01melse\u001B[39;00m:\n\u001B[0;32m-> 1382\u001B[0m         \u001B[43maxis\u001B[49m\u001B[38;5;241;43m.\u001B[39;49m\u001B[43m_set_scale\u001B[49m\u001B[43m(\u001B[49m\u001B[38;5;124;43m\"\u001B[39;49m\u001B[38;5;124;43mlinear\u001B[39;49m\u001B[38;5;124;43m\"\u001B[39;49m\u001B[43m)\u001B[49m\n\u001B[1;32m   1383\u001B[0m         axis\u001B[38;5;241m.\u001B[39m_set_lim(\u001B[38;5;241m0\u001B[39m, \u001B[38;5;241m1\u001B[39m, auto\u001B[38;5;241m=\u001B[39m\u001B[38;5;28;01mTrue\u001B[39;00m)\n\u001B[1;32m   1384\u001B[0m \u001B[38;5;28mself\u001B[39m\u001B[38;5;241m.\u001B[39m_update_transScale()\n",
      "File \u001B[0;32m~/anaconda3/envs/lidar_learning/lib/python3.10/site-packages/matplotlib/axis.py:770\u001B[0m, in \u001B[0;36mAxis._set_scale\u001B[0;34m(self, value, **kwargs)\u001B[0m\n\u001B[1;32m    768\u001B[0m \u001B[38;5;28;01melse\u001B[39;00m:\n\u001B[1;32m    769\u001B[0m     \u001B[38;5;28mself\u001B[39m\u001B[38;5;241m.\u001B[39m_scale \u001B[38;5;241m=\u001B[39m value\n\u001B[0;32m--> 770\u001B[0m \u001B[38;5;28;43mself\u001B[39;49m\u001B[38;5;241;43m.\u001B[39;49m\u001B[43m_scale\u001B[49m\u001B[38;5;241;43m.\u001B[39;49m\u001B[43mset_default_locators_and_formatters\u001B[49m\u001B[43m(\u001B[49m\u001B[38;5;28;43mself\u001B[39;49m\u001B[43m)\u001B[49m\n\u001B[1;32m    772\u001B[0m \u001B[38;5;28mself\u001B[39m\u001B[38;5;241m.\u001B[39misDefault_majloc \u001B[38;5;241m=\u001B[39m \u001B[38;5;28;01mTrue\u001B[39;00m\n\u001B[1;32m    773\u001B[0m \u001B[38;5;28mself\u001B[39m\u001B[38;5;241m.\u001B[39misDefault_minloc \u001B[38;5;241m=\u001B[39m \u001B[38;5;28;01mTrue\u001B[39;00m\n",
      "File \u001B[0;32m~/anaconda3/envs/lidar_learning/lib/python3.10/site-packages/matplotlib/scale.py:105\u001B[0m, in \u001B[0;36mLinearScale.set_default_locators_and_formatters\u001B[0;34m(self, axis)\u001B[0m\n\u001B[1;32m    103\u001B[0m \u001B[38;5;28;01mdef\u001B[39;00m \u001B[38;5;21mset_default_locators_and_formatters\u001B[39m(\u001B[38;5;28mself\u001B[39m, axis):\n\u001B[1;32m    104\u001B[0m     \u001B[38;5;66;03m# docstring inherited\u001B[39;00m\n\u001B[0;32m--> 105\u001B[0m     axis\u001B[38;5;241m.\u001B[39mset_major_locator(\u001B[43mAutoLocator\u001B[49m\u001B[43m(\u001B[49m\u001B[43m)\u001B[49m)\n\u001B[1;32m    106\u001B[0m     axis\u001B[38;5;241m.\u001B[39mset_major_formatter(ScalarFormatter())\n\u001B[1;32m    107\u001B[0m     axis\u001B[38;5;241m.\u001B[39mset_minor_formatter(NullFormatter())\n",
      "File \u001B[0;32m~/anaconda3/envs/lidar_learning/lib/python3.10/site-packages/matplotlib/ticker.py:2900\u001B[0m, in \u001B[0;36mAutoLocator.__init__\u001B[0;34m(self)\u001B[0m\n\u001B[1;32m   2898\u001B[0m     nbins \u001B[38;5;241m=\u001B[39m \u001B[38;5;124m'\u001B[39m\u001B[38;5;124mauto\u001B[39m\u001B[38;5;124m'\u001B[39m\n\u001B[1;32m   2899\u001B[0m     steps \u001B[38;5;241m=\u001B[39m [\u001B[38;5;241m1\u001B[39m, \u001B[38;5;241m2\u001B[39m, \u001B[38;5;241m2.5\u001B[39m, \u001B[38;5;241m5\u001B[39m, \u001B[38;5;241m10\u001B[39m]\n\u001B[0;32m-> 2900\u001B[0m \u001B[38;5;28;43msuper\u001B[39;49m\u001B[43m(\u001B[49m\u001B[43m)\u001B[49m\u001B[38;5;241;43m.\u001B[39;49m\u001B[38;5;21;43m__init__\u001B[39;49m\u001B[43m(\u001B[49m\u001B[43mnbins\u001B[49m\u001B[38;5;241;43m=\u001B[39;49m\u001B[43mnbins\u001B[49m\u001B[43m,\u001B[49m\u001B[43m \u001B[49m\u001B[43msteps\u001B[49m\u001B[38;5;241;43m=\u001B[39;49m\u001B[43msteps\u001B[49m\u001B[43m)\u001B[49m\n",
      "File \u001B[0;32m~/anaconda3/envs/lidar_learning/lib/python3.10/site-packages/matplotlib/ticker.py:2008\u001B[0m, in \u001B[0;36mMaxNLocator.__init__\u001B[0;34m(self, nbins, **kwargs)\u001B[0m\n\u001B[1;32m   2006\u001B[0m \u001B[38;5;28;01mif\u001B[39;00m nbins \u001B[38;5;129;01mis\u001B[39;00m \u001B[38;5;129;01mnot\u001B[39;00m \u001B[38;5;28;01mNone\u001B[39;00m:\n\u001B[1;32m   2007\u001B[0m     kwargs[\u001B[38;5;124m'\u001B[39m\u001B[38;5;124mnbins\u001B[39m\u001B[38;5;124m'\u001B[39m] \u001B[38;5;241m=\u001B[39m nbins\n\u001B[0;32m-> 2008\u001B[0m \u001B[38;5;28;43mself\u001B[39;49m\u001B[38;5;241;43m.\u001B[39;49m\u001B[43mset_params\u001B[49m\u001B[43m(\u001B[49m\u001B[38;5;241;43m*\u001B[39;49m\u001B[38;5;241;43m*\u001B[39;49m\u001B[43m{\u001B[49m\u001B[38;5;241;43m*\u001B[39;49m\u001B[38;5;241;43m*\u001B[39;49m\u001B[38;5;28;43mself\u001B[39;49m\u001B[38;5;241;43m.\u001B[39;49m\u001B[43mdefault_params\u001B[49m\u001B[43m,\u001B[49m\u001B[43m \u001B[49m\u001B[38;5;241;43m*\u001B[39;49m\u001B[38;5;241;43m*\u001B[39;49m\u001B[43mkwargs\u001B[49m\u001B[43m}\u001B[49m\u001B[43m)\u001B[49m\n",
      "File \u001B[0;32m~/anaconda3/envs/lidar_learning/lib/python3.10/site-packages/matplotlib/ticker.py:2031\u001B[0m, in \u001B[0;36mMaxNLocator.set_params\u001B[0;34m(self, **kwargs)\u001B[0m\n\u001B[1;32m   2025\u001B[0m \u001B[38;5;129m@staticmethod\u001B[39m\n\u001B[1;32m   2026\u001B[0m \u001B[38;5;28;01mdef\u001B[39;00m \u001B[38;5;21m_staircase\u001B[39m(steps):\n\u001B[1;32m   2027\u001B[0m     \u001B[38;5;66;03m# Make an extended staircase within which the needed step will be\u001B[39;00m\n\u001B[1;32m   2028\u001B[0m     \u001B[38;5;66;03m# found.  This is probably much larger than necessary.\u001B[39;00m\n\u001B[1;32m   2029\u001B[0m     \u001B[38;5;28;01mreturn\u001B[39;00m np\u001B[38;5;241m.\u001B[39mconcatenate([\u001B[38;5;241m0.1\u001B[39m \u001B[38;5;241m*\u001B[39m steps[:\u001B[38;5;241m-\u001B[39m\u001B[38;5;241m1\u001B[39m], steps, [\u001B[38;5;241m10\u001B[39m \u001B[38;5;241m*\u001B[39m steps[\u001B[38;5;241m1\u001B[39m]]])\n\u001B[0;32m-> 2031\u001B[0m \u001B[38;5;28;01mdef\u001B[39;00m \u001B[38;5;21mset_params\u001B[39m(\u001B[38;5;28mself\u001B[39m, \u001B[38;5;241m*\u001B[39m\u001B[38;5;241m*\u001B[39mkwargs):\n\u001B[1;32m   2032\u001B[0m \u001B[38;5;250m    \u001B[39m\u001B[38;5;124;03m\"\"\"\u001B[39;00m\n\u001B[1;32m   2033\u001B[0m \u001B[38;5;124;03m    Set parameters for this locator.\u001B[39;00m\n\u001B[1;32m   2034\u001B[0m \n\u001B[0;32m   (...)\u001B[0m\n\u001B[1;32m   2048\u001B[0m \u001B[38;5;124;03m        see `.MaxNLocator`\u001B[39;00m\n\u001B[1;32m   2049\u001B[0m \u001B[38;5;124;03m    \"\"\"\u001B[39;00m\n\u001B[1;32m   2050\u001B[0m     \u001B[38;5;28;01mif\u001B[39;00m \u001B[38;5;124m'\u001B[39m\u001B[38;5;124mnbins\u001B[39m\u001B[38;5;124m'\u001B[39m \u001B[38;5;129;01min\u001B[39;00m kwargs:\n",
      "\u001B[0;31mKeyboardInterrupt\u001B[0m: "
     ]
    }
   ],
   "execution_count": 101
  },
  {
   "cell_type": "markdown",
   "source": [
    "## Reformat Overlaps Matrix (to GT_Mapping)"
   ],
   "metadata": {
    "collapsed": false
   }
  },
  {
   "cell_type": "code",
   "source": [
    "# save overlaps information in a table, col0: source scan path, col1: reference scan path, col2: overlap between source and reference scans, col3: overlap threshold\n",
    "overlaps = []\n",
    "overlaps_table = np.empty((num_scans**2, 4))\n",
    "\n",
    "for i in tqdm.tqdm(range(num_scans)):\n",
    "    overlaps_i = np.zeros((num_scans, 4))\n",
    "    overlaps_i[:, 0] = np.ones(num_scans, dtype=int) * i\n",
    "    overlaps_i[:, 1] = np.arange(num_scans, dtype=int)\n",
    "    overlaps_i[:, 2] = overlaps_matrix[i, :]\n",
    "    overlaps_i[:, 3] = np.ones(num_scans, dtype=float) * overlap_thresh\n",
    "    overlaps.append(overlaps_i)\n",
    "    overlaps_table[num_scans*i:num_scans*(i+1), :] = overlaps_i\n",
    "\n",
    "# save overlaps\n",
    "gt_overlaps_saving_path = os.path.join(gt_overlaps_folder, seq)\n",
    "if not os.path.exists(gt_overlaps_saving_path):\n",
    "    print(f'Creating new folder {gt_overlaps_saving_path}.')\n",
    "    os.makedirs(gt_overlaps_saving_path)\n",
    "np.savez(os.path.join(gt_overlaps_saving_path, 'overlaps'), overlaps)\n",
    "\n",
    "print(f'Number of pairs: {overlaps_table.shape}')"
   ],
   "metadata": {
    "collapsed": false,
    "ExecuteTime": {
     "end_time": "2024-05-10T21:56:51.559279Z",
     "start_time": "2024-05-10T21:56:50.924451Z"
    }
   },
   "outputs": [
    {
     "name": "stderr",
     "output_type": "stream",
     "text": [
      "100%|██████████| 3723/3723 [00:00<00:00, 21843.16it/s]\n"
     ]
    },
    {
     "name": "stdout",
     "output_type": "stream",
     "text": [
      "Creating new folder /media/vectr/vectr3/Dataset/overlap_transformer/gt_overlaps/sculpture_garden.\n",
      "Number of pairs: (13860729, 4)\n"
     ]
    }
   ],
   "execution_count": 102
  },
  {
   "cell_type": "markdown",
   "metadata": {},
   "source": [
    "## Histogram of Overlaps Distribution\n",
    "Plot the histogram which is used to normalize the dataset."
   ]
  },
  {
   "cell_type": "code",
   "metadata": {
    "ExecuteTime": {
     "end_time": "2024-05-10T21:56:56.143048Z",
     "start_time": "2024-05-10T21:56:55.940463Z"
    }
   },
   "source": [
    "%matplotlib inline\n",
    "\n",
    "# only show tail bins\n",
    "min_overlap_show = 0.2\n",
    "max_overlap_show = 1.0\n",
    "overlaps = overlaps_table[:,2]\n",
    "\n",
    "_, _, patches = plt.hist(overlaps[(overlaps <= max_overlap_show) & (overlaps >= min_overlap_show)], int((max_overlap_show-min_overlap_show)/0.1), width=0.085)\n",
    "plt.bar_label(patches)\n",
    "plt.title('Overlap Distribution')\n",
    "plt.xlabel('Overlap')\n",
    "plt.ylabel('Number of Pairs')\n",
    "plt.show()"
   ],
   "outputs": [
    {
     "data": {
      "text/plain": [
       "<Figure size 640x480 with 1 Axes>"
      ],
      "image/png": "[encoded data removed]"
     },
     "metadata": {},
     "output_type": "display_data"
    }
   ],
   "execution_count": 103
  },
  {
   "cell_type": "markdown",
   "metadata": {},
   "source": [
    "## Normalize Overlaps Distribution\n",
    "We need balance the number of positive and negative data pairs for training. Based on the ***Histogram*** above, select a threshold (0.5 by default) to reduce the number of negative data pairs. Moreover, we can control the number of pairs to adjust the training time."
   ]
  },
  {
   "cell_type": "code",
   "metadata": {
    "ExecuteTime": {
     "end_time": "2024-05-10T21:57:04.330415Z",
     "start_time": "2024-05-10T21:57:01.671695Z"
    }
   },
   "source": [
    "neg_pos_threshold = round(overlap_thresh / 0.1)\n",
    "max_num_pos_each_scan = 20\n",
    "min_num_neg_each_scan = 7   # make sure to roughly balance the number of positive and negative pairs\n",
    "\n",
    "overlaps_table_normalized, pos_indices, neg_indices = normalize_data(overlaps_table, max_pos_thresh=max_num_pos_each_scan, min_neg_thresh=min_num_neg_each_scan, neg_pos_threshold=neg_pos_threshold, enhance_yaw=True)\n",
    "overlaps_normalized = overlaps_table_normalized[:,2]\n",
    "_, _, patches = plt.hist(overlaps_normalized, 10, width=0.085)\n",
    "plt.bar_label(patches)\n",
    "plt.title('Overlap Distribution')\n",
    "plt.xlabel('Overlap')\n",
    "plt.ylabel('Number of Pairs')\n",
    "plt.show()\n",
    "\n",
    "percent_keep = format(len(overlaps_table_normalized) / len(overlaps_table) * 100, \".2f\")\n",
    "num_pos = np.sum(overlaps_normalized >= neg_pos_threshold / 10)\n",
    "num_neg = np.sum(overlaps_normalized < neg_pos_threshold / 10)\n",
    "\n",
    "print(f\"Overlaps_table_normalized shape: {overlaps_table_normalized.shape}\")\n",
    "print(f\"Number of positive pairs: {num_pos}.\")\n",
    "print(f\"Number of negative pairs: {num_neg}.\")\n",
    "print(f\"Select {percent_keep}% data\")\n",
    "print(f\"Average {num_pos / np.sqrt(len(overlaps_table)):.2f} positive data per frame\")\n",
    "print(f\"Average {num_neg / np.sqrt(len(overlaps)):.2f} negative data per frame\")\n"
   ],
   "outputs": [
    {
     "name": "stderr",
     "output_type": "stream",
     "text": [
      "100%|██████████| 3723/3723 [00:02<00:00, 1648.80it/s]\n"
     ]
    },
    {
     "data": {
      "text/plain": [
       "<Figure size 640x480 with 1 Axes>"
      ],
      "image/png": "[encoded data removed]"
     },
     "metadata": {},
     "output_type": "display_data"
    },
    {
     "name": "stdout",
     "output_type": "stream",
     "text": [
      "Overlaps_table_normalized shape: (155870, 4)\n",
      "Number of positive pairs: 77687.\n",
      "Number of negative pairs: 78183.\n",
      "Select 1.12% data\n",
      "Average 20.87 positive data per frame\n",
      "Average 21.00 negative data per frame\n"
     ]
    }
   ],
   "execution_count": 104
  },
  {
   "cell_type": "markdown",
   "metadata": {},
   "source": [
    "## Generate Training and Validation Dataset\n",
    "Split the dataset to training and validation sets."
   ]
  },
  {
   "cell_type": "code",
   "metadata": {
    "ExecuteTime": {
     "end_time": "2024-05-10T21:57:20.869769Z",
     "start_time": "2024-05-10T21:57:20.709532Z"
    }
   },
   "source": [
    "# split ground truth for training and validation\n",
    "train_data, valid_data, _ = splitting(overlaps_table_normalized, valid_size=0.1, test_size=0.0)\n",
    "\n",
    "# saving folder\n",
    "dst_folder = gt_overlaps_saving_path\n",
    "\n",
    "# training data\n",
    "train_seq = np.empty((train_data.shape[0], 2), dtype=object)\n",
    "train_seq[:] = seq\n",
    "# np.savez_compressed(dst_folder + f'/train_set', overlaps=train_data, seq=train_seq)\n",
    "\n",
    "# validation data\n",
    "validation_seq = np.empty((valid_data.shape[0], 2), dtype=object)\n",
    "validation_seq[:] = seq\n",
    "# np.savez_compressed(dst_folder + f'/valid_set', overlaps=valid_data, seq=validation_seq)\n",
    "\n",
    "# normalized ground truth data\n",
    "overlaps_table_normalized_seq = np.empty((overlaps_table_normalized.shape[0], 2), dtype=object)\n",
    "overlaps_table_normalized_seq[:] = seq\n",
    "# np.savez_compressed(dst_folder + f'/overlaps_table_normalized', overlaps=overlaps_table_normalized, seq=overlaps_table_normalized_seq)\n",
    "\n",
    "# raw ground truth data, fully mapping, could be used for testing\n",
    "overlaps_table_seq = np.empty((overlaps_table.shape[0], 2), dtype=object)\n",
    "overlaps_table_seq[:] = seq\n",
    "# np.savez_compressed(dst_folder + f'/overlaps_table', overlaps=overlaps_table, seq=overlaps_table_seq)\n",
    "\n",
    "print(f'Finish saving the ground truth data for training and testing at: {os.path.abspath(dst_folder)} \\n')\n",
    "print(f\"Training set shape: {train_data.shape}\")\n",
    "print(f\"Validation set shape: {valid_data.shape}\")\n",
    "print(f'Distribution Norm set shape: {overlaps_normalized.shape}')\n"
   ],
   "outputs": [
    {
     "name": "stdout",
     "output_type": "stream",
     "text": [
      "Finish saving the ground truth data for training and testing at: /media/vectr/vectr3/Dataset/overlap_transformer/gt_overlaps/sculpture_garden \n",
      "\n",
      "Training set shape: (140283, 4)\n",
      "Validation set shape: (15587, 4)\n",
      "Distribution Norm set shape: (155870,)\n"
     ]
    }
   ],
   "execution_count": 106
  },
  {
   "metadata": {
    "ExecuteTime": {
     "end_time": "2024-05-10T21:57:24.631564Z",
     "start_time": "2024-05-10T21:57:23.196455Z"
    }
   },
   "cell_type": "code",
   "source": [
    "# format the data in table to load data efficiently\n",
    "# max_num_pos = 100, max_num_neg = 100, col0: curr_scan_id, col1: seq, col2:overlap_threshold, col3: num_pos, col4: num_neg, col5-104: pos_ids, col105-204: neg_ids\n",
    "# (add overlaps in col205:404 if needed)\n",
    "# matrix shape: (num_scans, 5+max_num_pos+max_num_neg)\n",
    "overlaps_full = (-np.ones((num_scans, 405))).astype(object)\n",
    "overlaps_train = (-np.ones((num_scans, 405))).astype(object)\n",
    "overlaps_valid = (-np.ones((num_scans, 405))).astype(object)\n",
    "\n",
    "# save positive and negative pairs for full dataset\n",
    "overlaps_full[:, 0] = np.arange(num_scans)          # scan i \n",
    "overlaps_full[:, 1] = seq                           # sequence\n",
    "overlaps_full[:, 2] = overlap_thresh                # overlap threshold\n",
    "overlaps_full[:, 3] = 0                             # number of positive pairs\n",
    "overlaps_full[:, 4] = 0                             # number of negative pairs\n",
    "\n",
    "for i in range(overlaps_table_normalized.shape[0]):\n",
    "    curr_id = int(overlaps_table_normalized[i, 0])\n",
    "    ref_id = int(overlaps_table_normalized[i, 1])\n",
    "    overlap = overlaps_table_normalized[i, 2]\n",
    "    \n",
    "    if overlap >= overlap_thresh:\n",
    "        overlaps_full[curr_id, overlaps_full[curr_id, 3] + 5] = ref_id\n",
    "        overlaps_full[curr_id, overlaps_full[curr_id, 3] + 205] = overlap\n",
    "        overlaps_full[curr_id, 3] += 1\n",
    "    else:\n",
    "        overlaps_full[curr_id, overlaps_full[curr_id, 4] + 105] = ref_id\n",
    "        overlaps_full[curr_id, overlaps_full[curr_id, 4] + 305] = overlap\n",
    "        overlaps_full[curr_id, 4] += 1\n",
    "\n",
    "# save positive and negative pairs for train dataset\n",
    "overlaps_train[:, 0] = np.arange(num_scans)          # scan i \n",
    "overlaps_train[:, 1] = seq                           # sequence\n",
    "overlaps_train[:, 2] = overlap_thresh                # overlap threshold\n",
    "overlaps_train[:, 3] = 0                             # number of positive pairs\n",
    "overlaps_train[:, 4] = 0                             # number of negative pairs\n",
    "\n",
    "for i in range(train_data.shape[0]):\n",
    "    curr_id = int(train_data[i, 0])\n",
    "    ref_id = int(train_data[i, 1])\n",
    "    overlap = train_data[i, 2]\n",
    "\n",
    "    if overlap >= overlap_thresh:\n",
    "        overlaps_train[curr_id, overlaps_train[curr_id, 3] + 5] = ref_id\n",
    "        overlaps_train[curr_id, overlaps_train[curr_id, 3] + 205] = overlap\n",
    "        overlaps_train[curr_id, 3] += 1\n",
    "    else:\n",
    "        overlaps_train[curr_id, overlaps_train[curr_id, 4] + 105] = ref_id\n",
    "        overlaps_train[curr_id, overlaps_train[curr_id, 4] + 305] = overlap\n",
    "        overlaps_train[curr_id, 4] += 1\n",
    "\n",
    "# save positive and negative pairs for validation dataset\n",
    "overlaps_valid[:, 0] = np.arange(num_scans)          # scan i \n",
    "overlaps_valid[:, 1] = seq                           # sequence\n",
    "overlaps_valid[:, 2] = overlap_thresh                # overlap threshold\n",
    "overlaps_valid[:, 3] = 0                             # number of positive pairs\n",
    "overlaps_valid[:, 4] = 0                             # number of negative pairs\n",
    "\n",
    "for i in range(valid_data.shape[0]):\n",
    "    curr_id = int(valid_data[i, 0])\n",
    "    ref_id = int(valid_data[i, 1])\n",
    "    overlap = valid_data[i, 2]\n",
    "\n",
    "    if overlap >= overlap_thresh:\n",
    "        overlaps_valid[curr_id, overlaps_valid[curr_id, 3] + 5] = ref_id\n",
    "        overlaps_valid[curr_id, overlaps_valid[curr_id, 3] + 205] = overlap\n",
    "        overlaps_valid[curr_id, 3] += 1\n",
    "    else:\n",
    "        overlaps_valid[curr_id, overlaps_valid[curr_id, 4] + 105] = ref_id\n",
    "        overlaps_valid[curr_id, overlaps_valid[curr_id, 4] + 305] = overlap\n",
    "        overlaps_valid[curr_id, 4] += 1\n",
    "\n",
    "np.savez(dst_folder + f'/overlaps_full', overlaps=overlaps_full)\n",
    "np.savez(dst_folder + f'/overlaps_train', overlaps=overlaps_train)\n",
    "np.savez(dst_folder + f'/overlaps_valid', overlaps=overlaps_valid)\n"
   ],
   "outputs": [],
   "execution_count": 107
  },
  {
   "cell_type": "markdown",
   "metadata": {},
   "source": [
    "## Visualize Generate Dataset (Option)\n",
    "Visualize the generated overlaps for a frame."
   ]
  },
  {
   "cell_type": "code",
   "metadata": {
    "ExecuteTime": {
     "end_time": "2024-05-10T21:57:58.439537Z",
     "start_time": "2024-05-10T21:57:28.243773Z"
    }
   },
   "source": [
    "%matplotlib qt\n",
    "num_scans = xyz.shape[0]\n",
    "for i in tqdm.tqdm(range(num_scans)):\n",
    "    overlaps_i = overlaps_matrix[i, :]\n",
    "    curr_pos_indices = pos_indices[i]\n",
    "    curr_neg_indices = neg_indices[i]\n",
    "    xyz_curr_pos = xyz[curr_pos_indices, :]\n",
    "    xyz_curr_neg = xyz[curr_neg_indices, :]\n",
    "    \n",
    "    plt.clf()\n",
    "    plt.scatter(xyz[:, 0], xyz[:, 1], c='b', label='trajectory')\n",
    "    plt.scatter(xyz_curr_pos[:, 0], xyz_curr_pos[:, 1], c='y', label='positive')\n",
    "    plt.scatter(xyz_curr_neg[:, 0], xyz_curr_neg[:, 1], c='r', label='negative')\n",
    "    # plt.scatter(xyz_kf[:, 0], xyz_kf[:, 1], c='pink', label='keyframes')\n",
    "    plt.scatter(xyz[i, 0], xyz[i, 1], c='g', label=f'scan {i+1}')\n",
    "    plt.legend()\n",
    "    plt.show()\n",
    "    plt.pause(0.0001)\n"
   ],
   "outputs": [
    {
     "name": "stderr",
     "output_type": "stream",
     "text": [
      " 10%|█         | 388/3723 [00:30<04:19, 12.87it/s]\n"
     ]
    },
    {
     "ename": "KeyboardInterrupt",
     "evalue": "",
     "output_type": "error",
     "traceback": [
      "\u001B[0;31m---------------------------------------------------------------------------\u001B[0m",
      "\u001B[0;31mKeyboardInterrupt\u001B[0m                         Traceback (most recent call last)",
      "Cell \u001B[0;32mIn[108], line 18\u001B[0m\n\u001B[1;32m     16\u001B[0m plt\u001B[38;5;241m.\u001B[39mlegend()\n\u001B[1;32m     17\u001B[0m plt\u001B[38;5;241m.\u001B[39mshow()\n\u001B[0;32m---> 18\u001B[0m \u001B[43mplt\u001B[49m\u001B[38;5;241;43m.\u001B[39;49m\u001B[43mpause\u001B[49m\u001B[43m(\u001B[49m\u001B[38;5;241;43m0.0001\u001B[39;49m\u001B[43m)\u001B[49m\n",
      "File \u001B[0;32m~/anaconda3/envs/lidar_learning/lib/python3.10/site-packages/matplotlib/pyplot.py:582\u001B[0m, in \u001B[0;36mpause\u001B[0;34m(interval)\u001B[0m\n\u001B[1;32m    580\u001B[0m         canvas\u001B[38;5;241m.\u001B[39mdraw_idle()\n\u001B[1;32m    581\u001B[0m     show(block\u001B[38;5;241m=\u001B[39m\u001B[38;5;28;01mFalse\u001B[39;00m)\n\u001B[0;32m--> 582\u001B[0m     \u001B[43mcanvas\u001B[49m\u001B[38;5;241;43m.\u001B[39;49m\u001B[43mstart_event_loop\u001B[49m\u001B[43m(\u001B[49m\u001B[43minterval\u001B[49m\u001B[43m)\u001B[49m\n\u001B[1;32m    583\u001B[0m \u001B[38;5;28;01melse\u001B[39;00m:\n\u001B[1;32m    584\u001B[0m     time\u001B[38;5;241m.\u001B[39msleep(interval)\n",
      "File \u001B[0;32m~/anaconda3/envs/lidar_learning/lib/python3.10/site-packages/matplotlib/backends/backend_qt.py:421\u001B[0m, in \u001B[0;36mFigureCanvasQT.start_event_loop\u001B[0;34m(self, timeout)\u001B[0m\n\u001B[1;32m    418\u001B[0m \u001B[38;5;28;01mif\u001B[39;00m timeout \u001B[38;5;241m>\u001B[39m \u001B[38;5;241m0\u001B[39m:\n\u001B[1;32m    419\u001B[0m     _ \u001B[38;5;241m=\u001B[39m QtCore\u001B[38;5;241m.\u001B[39mQTimer\u001B[38;5;241m.\u001B[39msingleShot(\u001B[38;5;28mint\u001B[39m(timeout \u001B[38;5;241m*\u001B[39m \u001B[38;5;241m1000\u001B[39m), event_loop\u001B[38;5;241m.\u001B[39mquit)\n\u001B[0;32m--> 421\u001B[0m \u001B[38;5;28;01mwith\u001B[39;00m _maybe_allow_interrupt(event_loop):\n\u001B[1;32m    422\u001B[0m     qt_compat\u001B[38;5;241m.\u001B[39m_exec(event_loop)\n",
      "File \u001B[0;32m~/anaconda3/envs/lidar_learning/lib/python3.10/contextlib.py:142\u001B[0m, in \u001B[0;36m_GeneratorContextManager.__exit__\u001B[0;34m(self, typ, value, traceback)\u001B[0m\n\u001B[1;32m    140\u001B[0m \u001B[38;5;28;01mif\u001B[39;00m typ \u001B[38;5;129;01mis\u001B[39;00m \u001B[38;5;28;01mNone\u001B[39;00m:\n\u001B[1;32m    141\u001B[0m     \u001B[38;5;28;01mtry\u001B[39;00m:\n\u001B[0;32m--> 142\u001B[0m         \u001B[38;5;28;43mnext\u001B[39;49m\u001B[43m(\u001B[49m\u001B[38;5;28;43mself\u001B[39;49m\u001B[38;5;241;43m.\u001B[39;49m\u001B[43mgen\u001B[49m\u001B[43m)\u001B[49m\n\u001B[1;32m    143\u001B[0m     \u001B[38;5;28;01mexcept\u001B[39;00m \u001B[38;5;167;01mStopIteration\u001B[39;00m:\n\u001B[1;32m    144\u001B[0m         \u001B[38;5;28;01mreturn\u001B[39;00m \u001B[38;5;28;01mFalse\u001B[39;00m\n",
      "File \u001B[0;32m~/anaconda3/envs/lidar_learning/lib/python3.10/site-packages/matplotlib/backends/qt_compat.py:245\u001B[0m, in \u001B[0;36m_maybe_allow_interrupt\u001B[0;34m(qapp)\u001B[0m\n\u001B[1;32m    243\u001B[0m signal\u001B[38;5;241m.\u001B[39msignal(signal\u001B[38;5;241m.\u001B[39mSIGINT, old_sigint_handler)\n\u001B[1;32m    244\u001B[0m \u001B[38;5;28;01mif\u001B[39;00m handler_args \u001B[38;5;129;01mis\u001B[39;00m \u001B[38;5;129;01mnot\u001B[39;00m \u001B[38;5;28;01mNone\u001B[39;00m:\n\u001B[0;32m--> 245\u001B[0m     \u001B[43mold_sigint_handler\u001B[49m\u001B[43m(\u001B[49m\u001B[38;5;241;43m*\u001B[39;49m\u001B[43mhandler_args\u001B[49m\u001B[43m)\u001B[49m\n",
      "\u001B[0;31mKeyboardInterrupt\u001B[0m: "
     ]
    }
   ],
   "execution_count": 108
  }
 ],
 "metadata": {
  "kernelspec": {
   "name": "python3",
   "language": "python",
   "display_name": "Python 3 (ipykernel)"
  },
  "language_info": {
   "codemirror_mode": {
    "name": "ipython",
    "version": 3
   },
   "file_extension": ".py",
   "mimetype": "text/x-python",
   "name": "python",
   "nbconvert_exporter": "python",
   "pygments_lexer": "ipython3",
   "version": "3.10.11"
  }
 },
 "nbformat": 4,
 "nbformat_minor": 1
}
