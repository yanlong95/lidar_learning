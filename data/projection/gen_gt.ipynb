{
 "cells": [
  {
   "metadata": {},
   "cell_type": "markdown",
   "source": [
    "# Generate the Ground Truth Overlap\n",
    "The file to generate ground truth overlaps which used in training and validation.\n"
   ]
  },
  {
   "cell_type": "code",
   "metadata": {
    "ExecuteTime": {
     "end_time": "2024-05-04T00:43:06.782944Z",
     "start_time": "2024-05-04T00:43:06.760517Z"
    }
   },
   "source": [
    "import os\n",
    "import yaml\n",
    "import tqdm\n",
    "import numpy as np\n",
    "import matplotlib.pyplot as plt\n",
    "\n",
    "from normalize_data import normalize_data\n",
    "from tools.fileloader import load_xyz_rot\n",
    "from tools.training_tools import splitting\n",
    "\n",
    "# auto-reload external modules\n",
    "%load_ext autoreload\n",
    "%autoreload 2\n"
   ],
   "outputs": [
    {
     "name": "stdout",
     "output_type": "stream",
     "text": [
      "The autoreload extension is already loaded. To reload it, use:\n",
      "  %reload_ext autoreload\n"
     ]
    }
   ],
   "execution_count": 150
  },
  {
   "cell_type": "markdown",
   "source": [],
   "metadata": {
    "collapsed": false
   }
  },
  {
   "cell_type": "markdown",
   "metadata": {},
   "source": [
    "## Load Configuration\n",
    "Modify the configuration in *config/gen_gt_overlap.yml*."
   ]
  },
  {
   "cell_type": "code",
   "metadata": {
    "ExecuteTime": {
     "end_time": "2024-05-04T00:48:47.847282Z",
     "start_time": "2024-05-04T00:48:47.816556Z"
    }
   },
   "source": [
    "# load config file\n",
    "config_path = '/home/vectr/PycharmProjects/lidar_learning/configs/config.yml'\n",
    "# config_path = '/Users/yanlong/PycharmProjects/lidar_learning/configs/config.yml'\n",
    "parameters_path = '/home/vectr/PycharmProjects/lidar_learning/configs/parameters.yml'\n",
    "# parameters_path = '/Users/yanlong/PycharmProjects/lidar_learning/configs/parameters.yml'\n",
    "\n",
    "config = yaml.safe_load(open(config_path))\n",
    "parameters = yaml.safe_load(open(parameters_path))\n",
    "\n",
    "overlaps_folder = config['data_root']['overlaps']               # folder contain overlaps_matrix.npy\n",
    "poses_folder_path = config['data_root']['poses']                # folder of positions used for trajectory plot (to select overlap_thresh)\n",
    "keyframes_folder_path = config['data_root']['keyframes']        # folder of keyframes (to load keyframe position for plotting)\n",
    "gt_overlaps_folder = config['data_root']['gt_overlaps']         # folder to save the overlaps and reformatted overlaps_table\n",
    "lidar_params = parameters['lidar']                              # params for lidar\n",
    "\n",
    "seq_num = 7\n",
    "seq = config['seqs']['all'][seq_num]                            # sequences \n"
   ],
   "outputs": [],
   "execution_count": 169
  },
  {
   "cell_type": "markdown",
   "metadata": {},
   "source": [
    "## Generate Overlap and Yaw Ground Truth Array"
   ]
  },
  {
   "cell_type": "code",
   "metadata": {
    "ExecuteTime": {
     "end_time": "2024-05-04T00:48:51.824087Z",
     "start_time": "2024-05-04T00:48:51.624750Z"
    }
   },
   "source": [
    "# load overlap matrix\n",
    "overlaps_matrix_path = os.path.join(overlaps_folder, f'{seq}.bin')\n",
    "overlaps_matrix = np.fromfile(overlaps_matrix_path)\n",
    "overlaps_matrix = overlaps_matrix.reshape(-1, int(np.sqrt(overlaps_matrix.shape)))\n",
    "print(f'Matrix shape: {overlaps_matrix.shape}')\n",
    "\n",
    "poses_path = os.path.join(poses_folder_path, seq, 'poses.txt')\n",
    "keyframes_poses_path = os.path.join(keyframes_folder_path, seq, 'poses', 'poses_kf.txt')\n",
    "\n",
    "xyz, rot = load_xyz_rot(poses_path)\n",
    "xyz_kf, rot_kf = load_xyz_rot(keyframes_poses_path)\n",
    "print(f'Positions: {xyz.shape}.')\n",
    "print(f'Keyframe positions: {xyz_kf.shape}.')\n"
   ],
   "outputs": [
    {
     "name": "stdout",
     "output_type": "stream",
     "text": [
      "Matrix shape: (4436, 4436)\n",
      "Positions: (4436, 3).\n",
      "Keyframe positions: (103, 3).\n"
     ]
    }
   ],
   "execution_count": 170
  },
  {
   "cell_type": "code",
   "source": [
    "# plt.scatter(xyz[:, 0], xyz[:, 1])\n",
    "# plt.show()\n",
    "\n",
    "overlap_thresh = 0.3\n",
    "\n",
    "%matplotlib qt\n",
    "num_scans = xyz.shape[0]\n",
    "for i in tqdm.tqdm(range(num_scans)):\n",
    "# i = 4900\n",
    "    overlaps_i = overlaps_matrix[i, :]\n",
    "    xyz_pos_i = xyz[overlaps_i >= overlap_thresh, :]\n",
    "    xyz_neg_i = xyz[overlaps_i < overlap_thresh, :]\n",
    "\n",
    "    plt.clf()\n",
    "    plt.scatter(xyz[:, 0], xyz[:, 1], c='b', label='trajectory')\n",
    "    plt.scatter(xyz_pos_i[:, 0], xyz_pos_i[:, 1], c='y', label='positive')\n",
    "    # plt.scatter(xyz_neg_i[:, 0], xyz_neg_i[:, 1], c='r', label='negative')\n",
    "    plt.scatter(xyz_kf[:, 0], xyz_kf[:, 1], c='pink', label='keyframes')\n",
    "    plt.scatter(xyz[i, 0], xyz[i, 1], c='g', label=f'scan {i+1}')\n",
    "    plt.legend()\n",
    "    plt.show()\n",
    "    plt.pause(0.0001)\n"
   ],
   "metadata": {
    "collapsed": false,
    "ExecuteTime": {
     "end_time": "2024-05-04T00:55:14.908473Z",
     "start_time": "2024-05-04T00:48:55.452869Z"
    }
   },
   "outputs": [
    {
     "name": "stderr",
     "output_type": "stream",
     "text": [
      "100%|██████████| 4436/4436 [06:19<00:00, 11.69it/s]\n"
     ]
    }
   ],
   "execution_count": 171
  },
  {
   "cell_type": "markdown",
   "source": [
    "## Reformat Overlaps Matrix (to GT_Mapping)"
   ],
   "metadata": {
    "collapsed": false
   }
  },
  {
   "cell_type": "code",
   "source": [
    "# save overlaps information in a table, col0: source scan path, col1: reference scan path, col2: overlap between source and reference scans, col3: overlap threshold\n",
    "overlaps = []\n",
    "overlaps_table = np.empty((num_scans**2, 4))\n",
    "\n",
    "for i in tqdm.tqdm(range(num_scans)):\n",
    "    overlaps_i = np.zeros((num_scans, 4))\n",
    "    overlaps_i[:, 0] = np.ones(num_scans, dtype=int) * i\n",
    "    overlaps_i[:, 1] = np.arange(num_scans, dtype=int)\n",
    "    overlaps_i[:, 2] = overlaps_matrix[i, :]\n",
    "    overlaps_i[:, 3] = np.ones(num_scans, dtype=float) * overlap_thresh\n",
    "    overlaps.append(overlaps_i)\n",
    "    overlaps_table[num_scans*i:num_scans*(i+1), :] = overlaps_i\n",
    "\n",
    "# save overlaps\n",
    "gt_overlaps_saving_path = os.path.join(gt_overlaps_folder, seq)\n",
    "if not os.path.exists(gt_overlaps_saving_path):\n",
    "    print(f'Creating new folder {gt_overlaps_saving_path}.')\n",
    "    os.makedirs(gt_overlaps_saving_path)\n",
    "np.savez(os.path.join(gt_overlaps_saving_path, 'overlaps'), overlaps)\n",
    "\n",
    "print(f'Number of pairs: {overlaps_table.shape}')"
   ],
   "metadata": {
    "collapsed": false,
    "ExecuteTime": {
     "end_time": "2024-05-04T00:55:23.558548Z",
     "start_time": "2024-05-04T00:55:22.021046Z"
    }
   },
   "outputs": [
    {
     "name": "stderr",
     "output_type": "stream",
     "text": [
      "100%|██████████| 4436/4436 [00:00<00:00, 9686.10it/s] \n"
     ]
    },
    {
     "name": "stdout",
     "output_type": "stream",
     "text": [
      "Creating new folder /media/vectr/vectr3/Dataset/overlap_transformer/gt_overlaps/luskin.\n",
      "Number of pairs: (19678096, 4)\n"
     ]
    }
   ],
   "execution_count": 172
  },
  {
   "cell_type": "markdown",
   "metadata": {},
   "source": [
    "## Histogram of Overlaps Distribution\n",
    "Plot the histogram which is used to normalize the dataset."
   ]
  },
  {
   "cell_type": "code",
   "metadata": {
    "ExecuteTime": {
     "end_time": "2024-05-04T00:55:26.445527Z",
     "start_time": "2024-05-04T00:55:26.244550Z"
    }
   },
   "source": [
    "%matplotlib inline\n",
    "\n",
    "# only show tail bins\n",
    "min_overlap_show = 0.2\n",
    "max_overlap_show = 1.0\n",
    "overlaps = overlaps_table[:,2]\n",
    "\n",
    "_, _, patches = plt.hist(overlaps[(overlaps <= max_overlap_show) & (overlaps >= min_overlap_show)], int((max_overlap_show-min_overlap_show)/0.1), width=0.085)\n",
    "plt.bar_label(patches)\n",
    "plt.title('Overlap Distribution')\n",
    "plt.xlabel('Overlap')\n",
    "plt.ylabel('Number of Pairs')\n",
    "plt.show()"
   ],
   "outputs": [
    {
     "data": {
      "text/plain": [
       "<Figure size 640x480 with 1 Axes>"
      ],
      "image/png": "[encoded data removed]"
     },
     "metadata": {},
     "output_type": "display_data"
    }
   ],
   "execution_count": 173
  },
  {
   "cell_type": "markdown",
   "metadata": {},
   "source": [
    "## Normalize Overlaps Distribution\n",
    "We need balance the number of positive and negative data pairs for training. Based on the ***Histogram*** above, select a threshold (0.5 by default) to reduce the number of negative data pairs. Moreover, we can control the number of pairs to adjust the training time."
   ]
  },
  {
   "cell_type": "code",
   "metadata": {
    "ExecuteTime": {
     "end_time": "2024-05-04T00:55:32.152914Z",
     "start_time": "2024-05-04T00:55:29.447920Z"
    }
   },
   "source": [
    "neg_pos_threshold = round(overlap_thresh / 0.1)\n",
    "max_num_pos_each_scan = 20\n",
    "min_num_neg_each_scan = 5   # make sure to roughly balance the number of positive and negative pairs\n",
    "\n",
    "overlaps_table_normalized, pos_indices, neg_indices = normalize_data(overlaps_table, max_pos_thresh=max_num_pos_each_scan, min_neg_thresh=min_num_neg_each_scan, neg_pos_threshold=neg_pos_threshold, enhance_yaw=False)\n",
    "overlaps_normalized = overlaps_table_normalized[:,2]\n",
    "_, _, patches = plt.hist(overlaps_normalized, 10, width=0.085)\n",
    "plt.bar_label(patches)\n",
    "plt.title('Overlap Distribution')\n",
    "plt.xlabel('Overlap')\n",
    "plt.ylabel('Number of Pairs')\n",
    "plt.show()\n",
    "\n",
    "percent_keep = format(len(overlaps_table_normalized) / len(overlaps_table) * 100, \".2f\")\n",
    "num_pos = np.sum(overlaps_normalized >= neg_pos_threshold / 10)\n",
    "num_neg = np.sum(overlaps_normalized < neg_pos_threshold / 10)\n",
    "\n",
    "print(f\"Overlaps_table_normalized shape: {overlaps_table_normalized.shape}\")\n",
    "print(f\"Number of positive pairs: {num_pos}.\")\n",
    "print(f\"Number of negative pairs: {num_neg}.\")\n",
    "print(f\"Select {percent_keep}% data\")\n",
    "print(f\"Average {num_pos / np.sqrt(len(overlaps_table)):.2f} positive data per frame\")\n",
    "print(f\"Average {num_neg / np.sqrt(len(overlaps)):.2f} negative data per frame\")\n"
   ],
   "outputs": [
    {
     "name": "stderr",
     "output_type": "stream",
     "text": [
      "100%|██████████| 4436/4436 [00:02<00:00, 1725.70it/s]\n"
     ]
    },
    {
     "data": {
      "text/plain": [
       "<Figure size 640x480 with 1 Axes>"
      ],
      "image/png": "[encoded data removed]"
     },
     "metadata": {},
     "output_type": "display_data"
    },
    {
     "name": "stdout",
     "output_type": "stream",
     "text": [
      "Overlaps_table_normalized shape: (154491, 4)\n",
      "Number of positive pairs: 87951.\n",
      "Number of negative pairs: 66540.\n",
      "Select 0.79% data\n",
      "Average 19.83 positive data per frame\n",
      "Average 15.00 negative data per frame\n"
     ]
    }
   ],
   "execution_count": 174
  },
  {
   "cell_type": "markdown",
   "metadata": {},
   "source": [
    "## Generate Training and Validation Dataset\n",
    "Split the dataset to training and validation sets."
   ]
  },
  {
   "cell_type": "code",
   "metadata": {
    "ExecuteTime": {
     "end_time": "2024-05-04T00:55:36.711380Z",
     "start_time": "2024-05-04T00:55:36.515927Z"
    }
   },
   "source": [
    "# split ground truth for training and validation\n",
    "train_data, valid_data, _ = splitting(overlaps_table_normalized, valid_size=0.1, test_size=0.0)\n",
    "\n",
    "# saving folder\n",
    "dst_folder = gt_overlaps_saving_path\n",
    "\n",
    "# training data\n",
    "train_seq = np.empty((train_data.shape[0], 2), dtype=object)\n",
    "train_seq[:] = seq\n",
    "# np.savez_compressed(dst_folder + f'/train_set', overlaps=train_data, seq=train_seq)\n",
    "\n",
    "# validation data\n",
    "validation_seq = np.empty((valid_data.shape[0], 2), dtype=object)\n",
    "validation_seq[:] = seq\n",
    "# np.savez_compressed(dst_folder + f'/valid_set', overlaps=valid_data, seq=validation_seq)\n",
    "\n",
    "# normalized ground truth data\n",
    "overlaps_table_normalized_seq = np.empty((overlaps_table_normalized.shape[0], 2), dtype=object)\n",
    "overlaps_table_normalized_seq[:] = seq\n",
    "# np.savez_compressed(dst_folder + f'/overlaps_table_normalized', overlaps=overlaps_table_normalized, seq=overlaps_table_normalized_seq)\n",
    "\n",
    "# raw ground truth data, fully mapping, could be used for testing\n",
    "overlaps_table_seq = np.empty((overlaps_table.shape[0], 2), dtype=object)\n",
    "overlaps_table_seq[:] = seq\n",
    "# np.savez_compressed(dst_folder + f'/overlaps_table', overlaps=overlaps_table, seq=overlaps_table_seq)\n",
    "\n",
    "print(f'Finish saving the ground truth data for training and testing at: {os.path.abspath(dst_folder)} \\n')\n",
    "print(f\"Training set shape: {train_data.shape}\")\n",
    "print(f\"Validation set shape: {valid_data.shape}\")\n",
    "print(f'Distribution Norm set shape: {overlaps_normalized.shape}')\n"
   ],
   "outputs": [
    {
     "name": "stdout",
     "output_type": "stream",
     "text": [
      "Finish saving the ground truth data for training and testing at: /media/vectr/vectr3/Dataset/overlap_transformer/gt_overlaps/luskin \n",
      "\n",
      "Training set shape: (139041, 4)\n",
      "Validation set shape: (15450, 4)\n",
      "Distribution Norm set shape: (154491,)\n"
     ]
    }
   ],
   "execution_count": 175
  },
  {
   "metadata": {
    "ExecuteTime": {
     "end_time": "2024-05-04T00:55:54.400028Z",
     "start_time": "2024-05-04T00:55:53.917229Z"
    }
   },
   "cell_type": "code",
   "source": [
    "# format the data in table to load data efficiently\n",
    "# max_num_pos = 100, max_num_neg = 100, col0: curr_scan_id, col1: seq, col2:overlap_threshold, col3: num_pos, col4: num_neg, col5-104: pos_ids, col105-204: neg_ids\n",
    "# (add overlaps in col205:404 if needed)\n",
    "# matrix shape: (num_scans, 5+max_num_pos+max_num_neg)\n",
    "overlaps_full = (-np.ones((num_scans, 205))).astype(object)\n",
    "overlaps_train = (-np.ones((num_scans, 205))).astype(object)\n",
    "overlaps_valid = (-np.ones((num_scans, 205))).astype(object)\n",
    "\n",
    "# save positive and negative pairs for full dataset\n",
    "overlaps_full[:, 0] = np.arange(num_scans)          # scan i \n",
    "overlaps_full[:, 1] = seq                           # sequence\n",
    "overlaps_full[:, 2] = overlap_thresh                # overlap threshold\n",
    "overlaps_full[:, 3] = 0                             # number of positive pairs\n",
    "overlaps_full[:, 4] = 0                             # number of negative pairs\n",
    "\n",
    "for i in range(overlaps_table_normalized.shape[0]):\n",
    "    curr_id = int(overlaps_table_normalized[i, 0])\n",
    "    ref_id = int(overlaps_table_normalized[i, 1])\n",
    "    overlap = overlaps_table_normalized[i, 2]\n",
    "    \n",
    "    if overlap >= overlap_thresh:\n",
    "        overlaps_full[curr_id, overlaps_full[curr_id, 3] + 5] = ref_id\n",
    "        overlaps_full[curr_id, 3] += 1\n",
    "    else:\n",
    "        overlaps_full[curr_id, overlaps_full[curr_id, 4] + 105] = ref_id\n",
    "        overlaps_full[curr_id, 4] += 1\n",
    "\n",
    "# save positive and negative pairs for train dataset\n",
    "overlaps_train[:, 0] = np.arange(num_scans)          # scan i \n",
    "overlaps_train[:, 1] = seq                           # sequence\n",
    "overlaps_train[:, 2] = overlap_thresh                # overlap threshold\n",
    "overlaps_train[:, 3] = 0                             # number of positive pairs\n",
    "overlaps_train[:, 4] = 0                             # number of negative pairs\n",
    "\n",
    "for i in range(train_data.shape[0]):\n",
    "    curr_id = int(train_data[i, 0])\n",
    "    ref_id = int(train_data[i, 1])\n",
    "    overlap = train_data[i, 2]\n",
    "\n",
    "    if overlap >= overlap_thresh:\n",
    "        overlaps_train[curr_id, overlaps_train[curr_id, 3] + 5] = ref_id\n",
    "        overlaps_train[curr_id, 3] += 1\n",
    "    else:\n",
    "        overlaps_train[curr_id, overlaps_train[curr_id, 4] + 105] = ref_id\n",
    "        overlaps_train[curr_id, 4] += 1\n",
    "\n",
    "# save positive and negative pairs for validation dataset\n",
    "overlaps_valid[:, 0] = np.arange(num_scans)          # scan i \n",
    "overlaps_valid[:, 1] = seq                           # sequence\n",
    "overlaps_valid[:, 2] = overlap_thresh                # overlap threshold\n",
    "overlaps_valid[:, 3] = 0                             # number of positive pairs\n",
    "overlaps_valid[:, 4] = 0                             # number of negative pairs\n",
    "\n",
    "for i in range(valid_data.shape[0]):\n",
    "    curr_id = int(valid_data[i, 0])\n",
    "    ref_id = int(valid_data[i, 1])\n",
    "    overlap = valid_data[i, 2]\n",
    "\n",
    "    if overlap >= overlap_thresh:\n",
    "        overlaps_valid[curr_id, overlaps_valid[curr_id, 3] + 5] = ref_id\n",
    "        overlaps_valid[curr_id, 3] += 1\n",
    "    else:\n",
    "        overlaps_valid[curr_id, overlaps_valid[curr_id, 4] + 105] = ref_id\n",
    "        overlaps_valid[curr_id, 4] += 1\n",
    "\n",
    "np.savez(dst_folder + f'/overlaps_full', overlaps=overlaps_full)\n",
    "np.savez(dst_folder + f'/overlaps_train', overlaps=overlaps_train)\n",
    "np.savez(dst_folder + f'/overlaps_valid', overlaps=overlaps_valid)\n"
   ],
   "outputs": [],
   "execution_count": 176
  },
  {
   "cell_type": "markdown",
   "metadata": {},
   "source": [
    "## Visualize Generate Dataset (Option)\n",
    "Visualize the generated overlaps for a frame."
   ]
  },
  {
   "cell_type": "code",
   "metadata": {
    "ExecuteTime": {
     "end_time": "2024-05-04T00:13:03.380033Z",
     "start_time": "2024-05-04T00:12:17.316581Z"
    }
   },
   "source": [
    "%matplotlib qt\n",
    "num_scans = xyz.shape[0]\n",
    "for i in tqdm.tqdm(range(num_scans)):\n",
    "    overlaps_i = overlaps_matrix[i, :]\n",
    "    curr_pos_indices = pos_indices[i]\n",
    "    curr_neg_indices = neg_indices[i]\n",
    "    xyz_curr_pos = xyz[curr_pos_indices, :]\n",
    "    xyz_curr_neg = xyz[curr_neg_indices, :]\n",
    "    \n",
    "    plt.clf()\n",
    "    plt.scatter(xyz[:, 0], xyz[:, 1], c='b', label='trajectory')\n",
    "    plt.scatter(xyz_curr_pos[:, 0], xyz_curr_pos[:, 1], c='y', label='positive')\n",
    "    plt.scatter(xyz_curr_neg[:, 0], xyz_curr_neg[:, 1], c='r', label='negative')\n",
    "    # plt.scatter(xyz_kf[:, 0], xyz_kf[:, 1], c='pink', label='keyframes')\n",
    "    plt.scatter(xyz[i, 0], xyz[i, 1], c='g', label=f'scan {i+1}')\n",
    "    plt.legend()\n",
    "    plt.show()\n",
    "    plt.pause(0.0001)\n"
   ],
   "outputs": [
    {
     "name": "stderr",
     "output_type": "stream",
     "text": [
      " 14%|█▍        | 575/4097 [00:45<04:39, 12.62it/s]\n"
     ]
    },
    {
     "ename": "KeyboardInterrupt",
     "evalue": "",
     "output_type": "error",
     "traceback": [
      "\u001B[0;31m---------------------------------------------------------------------------\u001B[0m",
      "\u001B[0;31mKeyboardInterrupt\u001B[0m                         Traceback (most recent call last)",
      "Cell \u001B[0;32mIn[29], line 10\u001B[0m\n\u001B[1;32m      7\u001B[0m xyz_curr_pos \u001B[38;5;241m=\u001B[39m xyz[curr_pos_indices, :]\n\u001B[1;32m      8\u001B[0m xyz_curr_neg \u001B[38;5;241m=\u001B[39m xyz[curr_neg_indices, :]\n\u001B[0;32m---> 10\u001B[0m \u001B[43mplt\u001B[49m\u001B[38;5;241;43m.\u001B[39;49m\u001B[43mclf\u001B[49m\u001B[43m(\u001B[49m\u001B[43m)\u001B[49m\n\u001B[1;32m     11\u001B[0m plt\u001B[38;5;241m.\u001B[39mscatter(xyz[:, \u001B[38;5;241m0\u001B[39m], xyz[:, \u001B[38;5;241m1\u001B[39m], c\u001B[38;5;241m=\u001B[39m\u001B[38;5;124m'\u001B[39m\u001B[38;5;124mb\u001B[39m\u001B[38;5;124m'\u001B[39m, label\u001B[38;5;241m=\u001B[39m\u001B[38;5;124m'\u001B[39m\u001B[38;5;124mtrajectory\u001B[39m\u001B[38;5;124m'\u001B[39m)\n\u001B[1;32m     12\u001B[0m plt\u001B[38;5;241m.\u001B[39mscatter(xyz_curr_pos[:, \u001B[38;5;241m0\u001B[39m], xyz_curr_pos[:, \u001B[38;5;241m1\u001B[39m], c\u001B[38;5;241m=\u001B[39m\u001B[38;5;124m'\u001B[39m\u001B[38;5;124my\u001B[39m\u001B[38;5;124m'\u001B[39m, label\u001B[38;5;241m=\u001B[39m\u001B[38;5;124m'\u001B[39m\u001B[38;5;124mpositive\u001B[39m\u001B[38;5;124m'\u001B[39m)\n",
      "File \u001B[0;32m~/anaconda3/envs/lidar_learning/lib/python3.10/site-packages/matplotlib/pyplot.py:997\u001B[0m, in \u001B[0;36mclf\u001B[0;34m()\u001B[0m\n\u001B[1;32m    995\u001B[0m \u001B[38;5;28;01mdef\u001B[39;00m \u001B[38;5;21mclf\u001B[39m():\n\u001B[1;32m    996\u001B[0m \u001B[38;5;250m    \u001B[39m\u001B[38;5;124;03m\"\"\"Clear the current figure.\"\"\"\u001B[39;00m\n\u001B[0;32m--> 997\u001B[0m     \u001B[43mgcf\u001B[49m\u001B[43m(\u001B[49m\u001B[43m)\u001B[49m\u001B[38;5;241;43m.\u001B[39;49m\u001B[43mclear\u001B[49m\u001B[43m(\u001B[49m\u001B[43m)\u001B[49m\n",
      "File \u001B[0;32m~/anaconda3/envs/lidar_learning/lib/python3.10/site-packages/matplotlib/figure.py:3148\u001B[0m, in \u001B[0;36mFigure.clear\u001B[0;34m(self, keep_observers)\u001B[0m\n\u001B[1;32m   3146\u001B[0m \u001B[38;5;28;01mdef\u001B[39;00m \u001B[38;5;21mclear\u001B[39m(\u001B[38;5;28mself\u001B[39m, keep_observers\u001B[38;5;241m=\u001B[39m\u001B[38;5;28;01mFalse\u001B[39;00m):\n\u001B[1;32m   3147\u001B[0m     \u001B[38;5;66;03m# docstring inherited\u001B[39;00m\n\u001B[0;32m-> 3148\u001B[0m     \u001B[38;5;28;43msuper\u001B[39;49m\u001B[43m(\u001B[49m\u001B[43m)\u001B[49m\u001B[38;5;241;43m.\u001B[39;49m\u001B[43mclear\u001B[49m\u001B[43m(\u001B[49m\u001B[43mkeep_observers\u001B[49m\u001B[38;5;241;43m=\u001B[39;49m\u001B[43mkeep_observers\u001B[49m\u001B[43m)\u001B[49m\n\u001B[1;32m   3149\u001B[0m     \u001B[38;5;66;03m# FigureBase.clear does not clear toolbars, as\u001B[39;00m\n\u001B[1;32m   3150\u001B[0m     \u001B[38;5;66;03m# only Figure can have toolbars\u001B[39;00m\n\u001B[1;32m   3151\u001B[0m     toolbar \u001B[38;5;241m=\u001B[39m \u001B[38;5;28mself\u001B[39m\u001B[38;5;241m.\u001B[39mcanvas\u001B[38;5;241m.\u001B[39mtoolbar\n",
      "File \u001B[0;32m~/anaconda3/envs/lidar_learning/lib/python3.10/site-packages/matplotlib/figure.py:977\u001B[0m, in \u001B[0;36mFigureBase.clear\u001B[0;34m(self, keep_observers)\u001B[0m\n\u001B[1;32m    974\u001B[0m \u001B[38;5;28mself\u001B[39m\u001B[38;5;241m.\u001B[39msubfigs \u001B[38;5;241m=\u001B[39m []\n\u001B[1;32m    976\u001B[0m \u001B[38;5;28;01mfor\u001B[39;00m ax \u001B[38;5;129;01min\u001B[39;00m \u001B[38;5;28mtuple\u001B[39m(\u001B[38;5;28mself\u001B[39m\u001B[38;5;241m.\u001B[39maxes):  \u001B[38;5;66;03m# Iterate over the copy.\u001B[39;00m\n\u001B[0;32m--> 977\u001B[0m     \u001B[43max\u001B[49m\u001B[38;5;241;43m.\u001B[39;49m\u001B[43mclear\u001B[49m\u001B[43m(\u001B[49m\u001B[43m)\u001B[49m\n\u001B[1;32m    978\u001B[0m     \u001B[38;5;28mself\u001B[39m\u001B[38;5;241m.\u001B[39mdelaxes(ax)  \u001B[38;5;66;03m# Remove ax from self._axstack.\u001B[39;00m\n\u001B[1;32m    980\u001B[0m \u001B[38;5;28mself\u001B[39m\u001B[38;5;241m.\u001B[39martists \u001B[38;5;241m=\u001B[39m []\n",
      "File \u001B[0;32m~/anaconda3/envs/lidar_learning/lib/python3.10/site-packages/matplotlib/axes/_base.py:1395\u001B[0m, in \u001B[0;36m_AxesBase.clear\u001B[0;34m(self)\u001B[0m\n\u001B[1;32m   1393\u001B[0m     \u001B[38;5;28mself\u001B[39m\u001B[38;5;241m.\u001B[39mcla()\n\u001B[1;32m   1394\u001B[0m \u001B[38;5;28;01melse\u001B[39;00m:\n\u001B[0;32m-> 1395\u001B[0m     \u001B[38;5;28;43mself\u001B[39;49m\u001B[38;5;241;43m.\u001B[39;49m\u001B[43m__clear\u001B[49m\u001B[43m(\u001B[49m\u001B[43m)\u001B[49m\n",
      "File \u001B[0;32m~/anaconda3/envs/lidar_learning/lib/python3.10/site-packages/matplotlib/axes/_base.py:1281\u001B[0m, in \u001B[0;36m_AxesBase.__clear\u001B[0;34m(self)\u001B[0m\n\u001B[1;32m   1279\u001B[0m     axis\u001B[38;5;241m.\u001B[39mclear()  \u001B[38;5;66;03m# Also resets the scale to linear.\u001B[39;00m\n\u001B[1;32m   1280\u001B[0m \u001B[38;5;28;01mfor\u001B[39;00m spine \u001B[38;5;129;01min\u001B[39;00m \u001B[38;5;28mself\u001B[39m\u001B[38;5;241m.\u001B[39mspines\u001B[38;5;241m.\u001B[39mvalues():\n\u001B[0;32m-> 1281\u001B[0m     \u001B[43mspine\u001B[49m\u001B[38;5;241;43m.\u001B[39;49m\u001B[43mclear\u001B[49m\u001B[43m(\u001B[49m\u001B[43m)\u001B[49m\n\u001B[1;32m   1283\u001B[0m \u001B[38;5;28mself\u001B[39m\u001B[38;5;241m.\u001B[39mignore_existing_data_limits \u001B[38;5;241m=\u001B[39m \u001B[38;5;28;01mTrue\u001B[39;00m\n\u001B[1;32m   1284\u001B[0m \u001B[38;5;28mself\u001B[39m\u001B[38;5;241m.\u001B[39mcallbacks \u001B[38;5;241m=\u001B[39m cbook\u001B[38;5;241m.\u001B[39mCallbackRegistry(\n\u001B[1;32m   1285\u001B[0m     signals\u001B[38;5;241m=\u001B[39m[\u001B[38;5;124m\"\u001B[39m\u001B[38;5;124mxlim_changed\u001B[39m\u001B[38;5;124m\"\u001B[39m, \u001B[38;5;124m\"\u001B[39m\u001B[38;5;124mylim_changed\u001B[39m\u001B[38;5;124m\"\u001B[39m, \u001B[38;5;124m\"\u001B[39m\u001B[38;5;124mzlim_changed\u001B[39m\u001B[38;5;124m\"\u001B[39m])\n",
      "File \u001B[0;32m~/anaconda3/envs/lidar_learning/lib/python3.10/site-packages/matplotlib/spines.py:225\u001B[0m, in \u001B[0;36mSpine.clear\u001B[0;34m(self)\u001B[0m\n\u001B[1;32m    223\u001B[0m \u001B[38;5;28mself\u001B[39m\u001B[38;5;241m.\u001B[39m_position \u001B[38;5;241m=\u001B[39m \u001B[38;5;28;01mNone\u001B[39;00m  \u001B[38;5;66;03m# clear position\u001B[39;00m\n\u001B[1;32m    224\u001B[0m \u001B[38;5;28;01mif\u001B[39;00m \u001B[38;5;28mself\u001B[39m\u001B[38;5;241m.\u001B[39maxis \u001B[38;5;129;01mis\u001B[39;00m \u001B[38;5;129;01mnot\u001B[39;00m \u001B[38;5;28;01mNone\u001B[39;00m:\n\u001B[0;32m--> 225\u001B[0m     \u001B[38;5;28;43mself\u001B[39;49m\u001B[38;5;241;43m.\u001B[39;49m\u001B[43maxis\u001B[49m\u001B[38;5;241;43m.\u001B[39;49m\u001B[43mclear\u001B[49m\u001B[43m(\u001B[49m\u001B[43m)\u001B[49m\n",
      "File \u001B[0;32m~/anaconda3/envs/lidar_learning/lib/python3.10/site-packages/matplotlib/axis.py:891\u001B[0m, in \u001B[0;36mAxis.clear\u001B[0;34m(self)\u001B[0m\n\u001B[1;32m    885\u001B[0m \u001B[38;5;28mself\u001B[39m\u001B[38;5;241m.\u001B[39m_major_tick_kw[\u001B[38;5;124m'\u001B[39m\u001B[38;5;124mgridOn\u001B[39m\u001B[38;5;124m'\u001B[39m] \u001B[38;5;241m=\u001B[39m (\n\u001B[1;32m    886\u001B[0m         mpl\u001B[38;5;241m.\u001B[39mrcParams[\u001B[38;5;124m'\u001B[39m\u001B[38;5;124maxes.grid\u001B[39m\u001B[38;5;124m'\u001B[39m] \u001B[38;5;129;01mand\u001B[39;00m\n\u001B[1;32m    887\u001B[0m         mpl\u001B[38;5;241m.\u001B[39mrcParams[\u001B[38;5;124m'\u001B[39m\u001B[38;5;124maxes.grid.which\u001B[39m\u001B[38;5;124m'\u001B[39m] \u001B[38;5;129;01min\u001B[39;00m (\u001B[38;5;124m'\u001B[39m\u001B[38;5;124mboth\u001B[39m\u001B[38;5;124m'\u001B[39m, \u001B[38;5;124m'\u001B[39m\u001B[38;5;124mmajor\u001B[39m\u001B[38;5;124m'\u001B[39m))\n\u001B[1;32m    888\u001B[0m \u001B[38;5;28mself\u001B[39m\u001B[38;5;241m.\u001B[39m_minor_tick_kw[\u001B[38;5;124m'\u001B[39m\u001B[38;5;124mgridOn\u001B[39m\u001B[38;5;124m'\u001B[39m] \u001B[38;5;241m=\u001B[39m (\n\u001B[1;32m    889\u001B[0m         mpl\u001B[38;5;241m.\u001B[39mrcParams[\u001B[38;5;124m'\u001B[39m\u001B[38;5;124maxes.grid\u001B[39m\u001B[38;5;124m'\u001B[39m] \u001B[38;5;129;01mand\u001B[39;00m\n\u001B[1;32m    890\u001B[0m         mpl\u001B[38;5;241m.\u001B[39mrcParams[\u001B[38;5;124m'\u001B[39m\u001B[38;5;124maxes.grid.which\u001B[39m\u001B[38;5;124m'\u001B[39m] \u001B[38;5;129;01min\u001B[39;00m (\u001B[38;5;124m'\u001B[39m\u001B[38;5;124mboth\u001B[39m\u001B[38;5;124m'\u001B[39m, \u001B[38;5;124m'\u001B[39m\u001B[38;5;124mminor\u001B[39m\u001B[38;5;124m'\u001B[39m))\n\u001B[0;32m--> 891\u001B[0m \u001B[38;5;28;43mself\u001B[39;49m\u001B[38;5;241;43m.\u001B[39;49m\u001B[43mreset_ticks\u001B[49m\u001B[43m(\u001B[49m\u001B[43m)\u001B[49m\n\u001B[1;32m    893\u001B[0m \u001B[38;5;28mself\u001B[39m\u001B[38;5;241m.\u001B[39mconverter \u001B[38;5;241m=\u001B[39m \u001B[38;5;28;01mNone\u001B[39;00m\n\u001B[1;32m    894\u001B[0m \u001B[38;5;28mself\u001B[39m\u001B[38;5;241m.\u001B[39munits \u001B[38;5;241m=\u001B[39m \u001B[38;5;28;01mNone\u001B[39;00m\n",
      "File \u001B[0;32m~/anaconda3/envs/lidar_learning/lib/python3.10/site-packages/matplotlib/axis.py:914\u001B[0m, in \u001B[0;36mAxis.reset_ticks\u001B[0;34m(self)\u001B[0m\n\u001B[1;32m    912\u001B[0m     \u001B[38;5;28;01mpass\u001B[39;00m\n\u001B[1;32m    913\u001B[0m \u001B[38;5;28;01mtry\u001B[39;00m:\n\u001B[0;32m--> 914\u001B[0m     \u001B[38;5;28;43mself\u001B[39;49m\u001B[38;5;241;43m.\u001B[39;49m\u001B[43mset_clip_path\u001B[49m\u001B[43m(\u001B[49m\u001B[38;5;28;43mself\u001B[39;49m\u001B[38;5;241;43m.\u001B[39;49m\u001B[43maxes\u001B[49m\u001B[38;5;241;43m.\u001B[39;49m\u001B[43mpatch\u001B[49m\u001B[43m)\u001B[49m\n\u001B[1;32m    915\u001B[0m \u001B[38;5;28;01mexcept\u001B[39;00m \u001B[38;5;167;01mAttributeError\u001B[39;00m:\n\u001B[1;32m    916\u001B[0m     \u001B[38;5;28;01mpass\u001B[39;00m\n",
      "File \u001B[0;32m~/anaconda3/envs/lidar_learning/lib/python3.10/site-packages/matplotlib/axis.py:1084\u001B[0m, in \u001B[0;36mAxis.set_clip_path\u001B[0;34m(self, clippath, transform)\u001B[0m\n\u001B[1;32m   1082\u001B[0m \u001B[38;5;28;01mdef\u001B[39;00m \u001B[38;5;21mset_clip_path\u001B[39m(\u001B[38;5;28mself\u001B[39m, clippath, transform\u001B[38;5;241m=\u001B[39m\u001B[38;5;28;01mNone\u001B[39;00m):\n\u001B[1;32m   1083\u001B[0m     \u001B[38;5;28msuper\u001B[39m()\u001B[38;5;241m.\u001B[39mset_clip_path(clippath, transform)\n\u001B[0;32m-> 1084\u001B[0m     \u001B[38;5;28;01mfor\u001B[39;00m child \u001B[38;5;129;01min\u001B[39;00m \u001B[38;5;28;43mself\u001B[39;49m\u001B[38;5;241;43m.\u001B[39;49m\u001B[43mmajorTicks\u001B[49m \u001B[38;5;241m+\u001B[39m \u001B[38;5;28mself\u001B[39m\u001B[38;5;241m.\u001B[39mminorTicks:\n\u001B[1;32m   1085\u001B[0m         child\u001B[38;5;241m.\u001B[39mset_clip_path(clippath, transform)\n\u001B[1;32m   1086\u001B[0m     \u001B[38;5;28mself\u001B[39m\u001B[38;5;241m.\u001B[39mstale \u001B[38;5;241m=\u001B[39m \u001B[38;5;28;01mTrue\u001B[39;00m\n",
      "File \u001B[0;32m~/anaconda3/envs/lidar_learning/lib/python3.10/site-packages/matplotlib/axis.py:594\u001B[0m, in \u001B[0;36m_LazyTickList.__get__\u001B[0;34m(self, instance, cls)\u001B[0m\n\u001B[1;32m    592\u001B[0m \u001B[38;5;28;01mif\u001B[39;00m \u001B[38;5;28mself\u001B[39m\u001B[38;5;241m.\u001B[39m_major:\n\u001B[1;32m    593\u001B[0m     instance\u001B[38;5;241m.\u001B[39mmajorTicks \u001B[38;5;241m=\u001B[39m []\n\u001B[0;32m--> 594\u001B[0m     tick \u001B[38;5;241m=\u001B[39m \u001B[43minstance\u001B[49m\u001B[38;5;241;43m.\u001B[39;49m\u001B[43m_get_tick\u001B[49m\u001B[43m(\u001B[49m\u001B[43mmajor\u001B[49m\u001B[38;5;241;43m=\u001B[39;49m\u001B[38;5;28;43;01mTrue\u001B[39;49;00m\u001B[43m)\u001B[49m\n\u001B[1;32m    595\u001B[0m     instance\u001B[38;5;241m.\u001B[39mmajorTicks\u001B[38;5;241m.\u001B[39mappend(tick)\n\u001B[1;32m    596\u001B[0m     \u001B[38;5;28;01mreturn\u001B[39;00m instance\u001B[38;5;241m.\u001B[39mmajorTicks\n",
      "File \u001B[0;32m~/anaconda3/envs/lidar_learning/lib/python3.10/site-packages/matplotlib/axis.py:1551\u001B[0m, in \u001B[0;36mAxis._get_tick\u001B[0;34m(self, major)\u001B[0m\n\u001B[1;32m   1547\u001B[0m     \u001B[38;5;28;01mraise\u001B[39;00m \u001B[38;5;167;01mNotImplementedError\u001B[39;00m(\n\u001B[1;32m   1548\u001B[0m         \u001B[38;5;124mf\u001B[39m\u001B[38;5;124m\"\u001B[39m\u001B[38;5;124mThe Axis subclass \u001B[39m\u001B[38;5;132;01m{\u001B[39;00m\u001B[38;5;28mself\u001B[39m\u001B[38;5;241m.\u001B[39m\u001B[38;5;18m__class__\u001B[39m\u001B[38;5;241m.\u001B[39m\u001B[38;5;18m__name__\u001B[39m\u001B[38;5;132;01m}\u001B[39;00m\u001B[38;5;124m must define \u001B[39m\u001B[38;5;124m\"\u001B[39m\n\u001B[1;32m   1549\u001B[0m         \u001B[38;5;124m\"\u001B[39m\u001B[38;5;124m_tick_class or reimplement _get_tick()\u001B[39m\u001B[38;5;124m\"\u001B[39m)\n\u001B[1;32m   1550\u001B[0m tick_kw \u001B[38;5;241m=\u001B[39m \u001B[38;5;28mself\u001B[39m\u001B[38;5;241m.\u001B[39m_major_tick_kw \u001B[38;5;28;01mif\u001B[39;00m major \u001B[38;5;28;01melse\u001B[39;00m \u001B[38;5;28mself\u001B[39m\u001B[38;5;241m.\u001B[39m_minor_tick_kw\n\u001B[0;32m-> 1551\u001B[0m \u001B[38;5;28;01mreturn\u001B[39;00m \u001B[38;5;28;43mself\u001B[39;49m\u001B[38;5;241;43m.\u001B[39;49m\u001B[43m_tick_class\u001B[49m\u001B[43m(\u001B[49m\u001B[38;5;28;43mself\u001B[39;49m\u001B[38;5;241;43m.\u001B[39;49m\u001B[43maxes\u001B[49m\u001B[43m,\u001B[49m\u001B[43m \u001B[49m\u001B[38;5;241;43m0\u001B[39;49m\u001B[43m,\u001B[49m\u001B[43m \u001B[49m\u001B[43mmajor\u001B[49m\u001B[38;5;241;43m=\u001B[39;49m\u001B[43mmajor\u001B[49m\u001B[43m,\u001B[49m\u001B[43m \u001B[49m\u001B[38;5;241;43m*\u001B[39;49m\u001B[38;5;241;43m*\u001B[39;49m\u001B[43mtick_kw\u001B[49m\u001B[43m)\u001B[49m\n",
      "File \u001B[0;32m~/anaconda3/envs/lidar_learning/lib/python3.10/site-packages/matplotlib/axis.py:421\u001B[0m, in \u001B[0;36mXTick.__init__\u001B[0;34m(self, *args, **kwargs)\u001B[0m\n\u001B[1;32m    418\u001B[0m \u001B[38;5;66;03m# x in data coords, y in axes coords\u001B[39;00m\n\u001B[1;32m    419\u001B[0m ax \u001B[38;5;241m=\u001B[39m \u001B[38;5;28mself\u001B[39m\u001B[38;5;241m.\u001B[39maxes\n\u001B[1;32m    420\u001B[0m \u001B[38;5;28mself\u001B[39m\u001B[38;5;241m.\u001B[39mtick1line\u001B[38;5;241m.\u001B[39mset(\n\u001B[0;32m--> 421\u001B[0m     data\u001B[38;5;241m=\u001B[39m([\u001B[38;5;241m0\u001B[39m], [\u001B[38;5;241m0\u001B[39m]), transform\u001B[38;5;241m=\u001B[39m\u001B[43max\u001B[49m\u001B[38;5;241;43m.\u001B[39;49m\u001B[43mget_xaxis_transform\u001B[49m\u001B[43m(\u001B[49m\u001B[38;5;124;43m\"\u001B[39;49m\u001B[38;5;124;43mtick1\u001B[39;49m\u001B[38;5;124;43m\"\u001B[39;49m\u001B[43m)\u001B[49m)\n\u001B[1;32m    422\u001B[0m \u001B[38;5;28mself\u001B[39m\u001B[38;5;241m.\u001B[39mtick2line\u001B[38;5;241m.\u001B[39mset(\n\u001B[1;32m    423\u001B[0m     data\u001B[38;5;241m=\u001B[39m([\u001B[38;5;241m0\u001B[39m], [\u001B[38;5;241m1\u001B[39m]), transform\u001B[38;5;241m=\u001B[39max\u001B[38;5;241m.\u001B[39mget_xaxis_transform(\u001B[38;5;124m\"\u001B[39m\u001B[38;5;124mtick2\u001B[39m\u001B[38;5;124m\"\u001B[39m))\n\u001B[1;32m    424\u001B[0m \u001B[38;5;28mself\u001B[39m\u001B[38;5;241m.\u001B[39mgridline\u001B[38;5;241m.\u001B[39mset(\n\u001B[1;32m    425\u001B[0m     data\u001B[38;5;241m=\u001B[39m([\u001B[38;5;241m0\u001B[39m, \u001B[38;5;241m0\u001B[39m], [\u001B[38;5;241m0\u001B[39m, \u001B[38;5;241m1\u001B[39m]), transform\u001B[38;5;241m=\u001B[39max\u001B[38;5;241m.\u001B[39mget_xaxis_transform(\u001B[38;5;124m\"\u001B[39m\u001B[38;5;124mgrid\u001B[39m\u001B[38;5;124m\"\u001B[39m))\n",
      "File \u001B[0;32m~/anaconda3/envs/lidar_learning/lib/python3.10/site-packages/matplotlib/axes/_base.py:938\u001B[0m, in \u001B[0;36m_AxesBase.get_xaxis_transform\u001B[0;34m(self, which)\u001B[0m\n\u001B[1;32m    935\u001B[0m     \u001B[38;5;28;01mreturn\u001B[39;00m \u001B[38;5;28mself\u001B[39m\u001B[38;5;241m.\u001B[39m_xaxis_transform\n\u001B[1;32m    936\u001B[0m \u001B[38;5;28;01melif\u001B[39;00m which \u001B[38;5;241m==\u001B[39m \u001B[38;5;124m'\u001B[39m\u001B[38;5;124mtick1\u001B[39m\u001B[38;5;124m'\u001B[39m:\n\u001B[1;32m    937\u001B[0m     \u001B[38;5;66;03m# for cartesian projection, this is bottom spine\u001B[39;00m\n\u001B[0;32m--> 938\u001B[0m     \u001B[38;5;28;01mreturn\u001B[39;00m \u001B[38;5;28;43mself\u001B[39;49m\u001B[38;5;241;43m.\u001B[39;49m\u001B[43mspines\u001B[49m\u001B[38;5;241;43m.\u001B[39;49m\u001B[43mbottom\u001B[49m\u001B[38;5;241;43m.\u001B[39;49m\u001B[43mget_spine_transform\u001B[49m\u001B[43m(\u001B[49m\u001B[43m)\u001B[49m\n\u001B[1;32m    939\u001B[0m \u001B[38;5;28;01melif\u001B[39;00m which \u001B[38;5;241m==\u001B[39m \u001B[38;5;124m'\u001B[39m\u001B[38;5;124mtick2\u001B[39m\u001B[38;5;124m'\u001B[39m:\n\u001B[1;32m    940\u001B[0m     \u001B[38;5;66;03m# for cartesian projection, this is top spine\u001B[39;00m\n\u001B[1;32m    941\u001B[0m     \u001B[38;5;28;01mreturn\u001B[39;00m \u001B[38;5;28mself\u001B[39m\u001B[38;5;241m.\u001B[39mspines\u001B[38;5;241m.\u001B[39mtop\u001B[38;5;241m.\u001B[39mget_spine_transform()\n",
      "File \u001B[0;32m~/anaconda3/envs/lidar_learning/lib/python3.10/site-packages/matplotlib/spines.py:334\u001B[0m, in \u001B[0;36mSpine.get_spine_transform\u001B[0;34m(self)\u001B[0m\n\u001B[1;32m    332\u001B[0m \u001B[38;5;28;01mdef\u001B[39;00m \u001B[38;5;21mget_spine_transform\u001B[39m(\u001B[38;5;28mself\u001B[39m):\n\u001B[1;32m    333\u001B[0m \u001B[38;5;250m    \u001B[39m\u001B[38;5;124;03m\"\"\"Return the spine transform.\"\"\"\u001B[39;00m\n\u001B[0;32m--> 334\u001B[0m     \u001B[38;5;28;43mself\u001B[39;49m\u001B[38;5;241;43m.\u001B[39;49m\u001B[43m_ensure_position_is_set\u001B[49m\u001B[43m(\u001B[49m\u001B[43m)\u001B[49m\n\u001B[1;32m    336\u001B[0m     position \u001B[38;5;241m=\u001B[39m \u001B[38;5;28mself\u001B[39m\u001B[38;5;241m.\u001B[39m_position\n\u001B[1;32m    337\u001B[0m     \u001B[38;5;28;01mif\u001B[39;00m \u001B[38;5;28misinstance\u001B[39m(position, \u001B[38;5;28mstr\u001B[39m):\n",
      "File \u001B[0;32m~/anaconda3/envs/lidar_learning/lib/python3.10/site-packages/matplotlib/spines.py:206\u001B[0m, in \u001B[0;36mSpine._ensure_position_is_set\u001B[0;34m(self)\u001B[0m\n\u001B[1;32m    203\u001B[0m \u001B[38;5;28;01mif\u001B[39;00m \u001B[38;5;28mself\u001B[39m\u001B[38;5;241m.\u001B[39m_position \u001B[38;5;129;01mis\u001B[39;00m \u001B[38;5;28;01mNone\u001B[39;00m:\n\u001B[1;32m    204\u001B[0m     \u001B[38;5;66;03m# default position\u001B[39;00m\n\u001B[1;32m    205\u001B[0m     \u001B[38;5;28mself\u001B[39m\u001B[38;5;241m.\u001B[39m_position \u001B[38;5;241m=\u001B[39m (\u001B[38;5;124m'\u001B[39m\u001B[38;5;124moutward\u001B[39m\u001B[38;5;124m'\u001B[39m, \u001B[38;5;241m0.0\u001B[39m)  \u001B[38;5;66;03m# in points\u001B[39;00m\n\u001B[0;32m--> 206\u001B[0m     \u001B[38;5;28;43mself\u001B[39;49m\u001B[38;5;241;43m.\u001B[39;49m\u001B[43mset_position\u001B[49m\u001B[43m(\u001B[49m\u001B[38;5;28;43mself\u001B[39;49m\u001B[38;5;241;43m.\u001B[39;49m\u001B[43m_position\u001B[49m\u001B[43m)\u001B[49m\n",
      "File \u001B[0;32m~/anaconda3/envs/lidar_learning/lib/python3.10/site-packages/matplotlib/spines.py:324\u001B[0m, in \u001B[0;36mSpine.set_position\u001B[0;34m(self, position)\u001B[0m\n\u001B[1;32m    322\u001B[0m \u001B[38;5;28mself\u001B[39m\u001B[38;5;241m.\u001B[39mset_transform(\u001B[38;5;28mself\u001B[39m\u001B[38;5;241m.\u001B[39mget_spine_transform())\n\u001B[1;32m    323\u001B[0m \u001B[38;5;28;01mif\u001B[39;00m \u001B[38;5;28mself\u001B[39m\u001B[38;5;241m.\u001B[39maxis \u001B[38;5;129;01mis\u001B[39;00m \u001B[38;5;129;01mnot\u001B[39;00m \u001B[38;5;28;01mNone\u001B[39;00m:\n\u001B[0;32m--> 324\u001B[0m     \u001B[38;5;28;43mself\u001B[39;49m\u001B[38;5;241;43m.\u001B[39;49m\u001B[43maxis\u001B[49m\u001B[38;5;241;43m.\u001B[39;49m\u001B[43mreset_ticks\u001B[49m\u001B[43m(\u001B[49m\u001B[43m)\u001B[49m\n\u001B[1;32m    325\u001B[0m \u001B[38;5;28mself\u001B[39m\u001B[38;5;241m.\u001B[39mstale \u001B[38;5;241m=\u001B[39m \u001B[38;5;28;01mTrue\u001B[39;00m\n",
      "File \u001B[0;32m~/anaconda3/envs/lidar_learning/lib/python3.10/site-packages/matplotlib/axis.py:914\u001B[0m, in \u001B[0;36mAxis.reset_ticks\u001B[0;34m(self)\u001B[0m\n\u001B[1;32m    912\u001B[0m     \u001B[38;5;28;01mpass\u001B[39;00m\n\u001B[1;32m    913\u001B[0m \u001B[38;5;28;01mtry\u001B[39;00m:\n\u001B[0;32m--> 914\u001B[0m     \u001B[38;5;28;43mself\u001B[39;49m\u001B[38;5;241;43m.\u001B[39;49m\u001B[43mset_clip_path\u001B[49m\u001B[43m(\u001B[49m\u001B[38;5;28;43mself\u001B[39;49m\u001B[38;5;241;43m.\u001B[39;49m\u001B[43maxes\u001B[49m\u001B[38;5;241;43m.\u001B[39;49m\u001B[43mpatch\u001B[49m\u001B[43m)\u001B[49m\n\u001B[1;32m    915\u001B[0m \u001B[38;5;28;01mexcept\u001B[39;00m \u001B[38;5;167;01mAttributeError\u001B[39;00m:\n\u001B[1;32m    916\u001B[0m     \u001B[38;5;28;01mpass\u001B[39;00m\n",
      "File \u001B[0;32m~/anaconda3/envs/lidar_learning/lib/python3.10/site-packages/matplotlib/axis.py:1085\u001B[0m, in \u001B[0;36mAxis.set_clip_path\u001B[0;34m(self, clippath, transform)\u001B[0m\n\u001B[1;32m   1083\u001B[0m \u001B[38;5;28msuper\u001B[39m()\u001B[38;5;241m.\u001B[39mset_clip_path(clippath, transform)\n\u001B[1;32m   1084\u001B[0m \u001B[38;5;28;01mfor\u001B[39;00m child \u001B[38;5;129;01min\u001B[39;00m \u001B[38;5;28mself\u001B[39m\u001B[38;5;241m.\u001B[39mmajorTicks \u001B[38;5;241m+\u001B[39m \u001B[38;5;28mself\u001B[39m\u001B[38;5;241m.\u001B[39mminorTicks:\n\u001B[0;32m-> 1085\u001B[0m     \u001B[43mchild\u001B[49m\u001B[38;5;241;43m.\u001B[39;49m\u001B[43mset_clip_path\u001B[49m\u001B[43m(\u001B[49m\u001B[43mclippath\u001B[49m\u001B[43m,\u001B[49m\u001B[43m \u001B[49m\u001B[43mtransform\u001B[49m\u001B[43m)\u001B[49m\n\u001B[1;32m   1086\u001B[0m \u001B[38;5;28mself\u001B[39m\u001B[38;5;241m.\u001B[39mstale \u001B[38;5;241m=\u001B[39m \u001B[38;5;28;01mTrue\u001B[39;00m\n",
      "File \u001B[0;32m~/anaconda3/envs/lidar_learning/lib/python3.10/site-packages/matplotlib/axis.py:240\u001B[0m, in \u001B[0;36mTick.set_clip_path\u001B[0;34m(self, clippath, transform)\u001B[0m\n\u001B[1;32m    237\u001B[0m \u001B[38;5;28;01mdef\u001B[39;00m \u001B[38;5;21mset_clip_path\u001B[39m(\u001B[38;5;28mself\u001B[39m, clippath, transform\u001B[38;5;241m=\u001B[39m\u001B[38;5;28;01mNone\u001B[39;00m):\n\u001B[1;32m    238\u001B[0m     \u001B[38;5;66;03m# docstring inherited\u001B[39;00m\n\u001B[1;32m    239\u001B[0m     \u001B[38;5;28msuper\u001B[39m()\u001B[38;5;241m.\u001B[39mset_clip_path(clippath, transform)\n\u001B[0;32m--> 240\u001B[0m     \u001B[38;5;28;43mself\u001B[39;49m\u001B[38;5;241;43m.\u001B[39;49m\u001B[43mgridline\u001B[49m\u001B[38;5;241;43m.\u001B[39;49m\u001B[43mset_clip_path\u001B[49m\u001B[43m(\u001B[49m\u001B[43mclippath\u001B[49m\u001B[43m,\u001B[49m\u001B[43m \u001B[49m\u001B[43mtransform\u001B[49m\u001B[43m)\u001B[49m\n\u001B[1;32m    241\u001B[0m     \u001B[38;5;28mself\u001B[39m\u001B[38;5;241m.\u001B[39mstale \u001B[38;5;241m=\u001B[39m \u001B[38;5;28;01mTrue\u001B[39;00m\n",
      "File \u001B[0;32m~/anaconda3/envs/lidar_learning/lib/python3.10/site-packages/matplotlib/artist.py:808\u001B[0m, in \u001B[0;36mArtist.set_clip_path\u001B[0;34m(self, path, transform)\u001B[0m\n\u001B[1;32m    806\u001B[0m \u001B[38;5;28;01mif\u001B[39;00m transform \u001B[38;5;129;01mis\u001B[39;00m \u001B[38;5;28;01mNone\u001B[39;00m:\n\u001B[1;32m    807\u001B[0m     \u001B[38;5;28;01mif\u001B[39;00m \u001B[38;5;28misinstance\u001B[39m(path, Rectangle):\n\u001B[0;32m--> 808\u001B[0m         \u001B[38;5;28mself\u001B[39m\u001B[38;5;241m.\u001B[39mclipbox \u001B[38;5;241m=\u001B[39m \u001B[43mTransformedBbox\u001B[49m\u001B[43m(\u001B[49m\u001B[43mBbox\u001B[49m\u001B[38;5;241;43m.\u001B[39;49m\u001B[43munit\u001B[49m\u001B[43m(\u001B[49m\u001B[43m)\u001B[49m\u001B[43m,\u001B[49m\n\u001B[1;32m    809\u001B[0m \u001B[43m                                       \u001B[49m\u001B[43mpath\u001B[49m\u001B[38;5;241;43m.\u001B[39;49m\u001B[43mget_transform\u001B[49m\u001B[43m(\u001B[49m\u001B[43m)\u001B[49m\u001B[43m)\u001B[49m\n\u001B[1;32m    810\u001B[0m         \u001B[38;5;28mself\u001B[39m\u001B[38;5;241m.\u001B[39m_clippath \u001B[38;5;241m=\u001B[39m \u001B[38;5;28;01mNone\u001B[39;00m\n\u001B[1;32m    811\u001B[0m         success \u001B[38;5;241m=\u001B[39m \u001B[38;5;28;01mTrue\u001B[39;00m\n",
      "File \u001B[0;32m~/anaconda3/envs/lidar_learning/lib/python3.10/site-packages/matplotlib/transforms.py:1104\u001B[0m, in \u001B[0;36mTransformedBbox.__init__\u001B[0;34m(self, bbox, transform, **kwargs)\u001B[0m\n\u001B[1;32m   1102\u001B[0m \u001B[38;5;28mself\u001B[39m\u001B[38;5;241m.\u001B[39m_bbox \u001B[38;5;241m=\u001B[39m bbox\n\u001B[1;32m   1103\u001B[0m \u001B[38;5;28mself\u001B[39m\u001B[38;5;241m.\u001B[39m_transform \u001B[38;5;241m=\u001B[39m transform\n\u001B[0;32m-> 1104\u001B[0m \u001B[38;5;28;43mself\u001B[39;49m\u001B[38;5;241;43m.\u001B[39;49m\u001B[43mset_children\u001B[49m\u001B[43m(\u001B[49m\u001B[43mbbox\u001B[49m\u001B[43m,\u001B[49m\u001B[43m \u001B[49m\u001B[43mtransform\u001B[49m\u001B[43m)\u001B[49m\n\u001B[1;32m   1105\u001B[0m \u001B[38;5;28mself\u001B[39m\u001B[38;5;241m.\u001B[39m_points \u001B[38;5;241m=\u001B[39m \u001B[38;5;28;01mNone\u001B[39;00m\n",
      "File \u001B[0;32m~/anaconda3/envs/lidar_learning/lib/python3.10/site-packages/matplotlib/transforms.py:208\u001B[0m, in \u001B[0;36mTransformNode.set_children\u001B[0;34m(self, *children)\u001B[0m\n\u001B[1;32m    201\u001B[0m \u001B[38;5;66;03m# Parents are stored as weak references, so that if the\u001B[39;00m\n\u001B[1;32m    202\u001B[0m \u001B[38;5;66;03m# parents are destroyed, references from the children won't\u001B[39;00m\n\u001B[1;32m    203\u001B[0m \u001B[38;5;66;03m# keep them alive.\u001B[39;00m\n\u001B[1;32m    204\u001B[0m \u001B[38;5;28;01mfor\u001B[39;00m child \u001B[38;5;129;01min\u001B[39;00m children:\n\u001B[1;32m    205\u001B[0m     \u001B[38;5;66;03m# Use weak references so this dictionary won't keep obsolete nodes\u001B[39;00m\n\u001B[1;32m    206\u001B[0m     \u001B[38;5;66;03m# alive; the callback deletes the dictionary entry. This is a\u001B[39;00m\n\u001B[1;32m    207\u001B[0m     \u001B[38;5;66;03m# performance improvement over using WeakValueDictionary.\u001B[39;00m\n\u001B[0;32m--> 208\u001B[0m     ref \u001B[38;5;241m=\u001B[39m \u001B[43mweakref\u001B[49m\u001B[38;5;241;43m.\u001B[39;49m\u001B[43mref\u001B[49m\u001B[43m(\u001B[49m\n\u001B[1;32m    209\u001B[0m \u001B[43m        \u001B[49m\u001B[38;5;28;43mself\u001B[39;49m\u001B[43m,\u001B[49m\u001B[43m \u001B[49m\u001B[38;5;28;43;01mlambda\u001B[39;49;00m\u001B[43m \u001B[49m\u001B[43m_\u001B[49m\u001B[43m,\u001B[49m\u001B[43m \u001B[49m\u001B[43mpop\u001B[49m\u001B[38;5;241;43m=\u001B[39;49m\u001B[43mchild\u001B[49m\u001B[38;5;241;43m.\u001B[39;49m\u001B[43m_parents\u001B[49m\u001B[38;5;241;43m.\u001B[39;49m\u001B[43mpop\u001B[49m\u001B[43m,\u001B[49m\u001B[43m \u001B[49m\u001B[43mk\u001B[49m\u001B[38;5;241;43m=\u001B[39;49m\u001B[38;5;28;43mid\u001B[39;49m\u001B[43m(\u001B[49m\u001B[38;5;28;43mself\u001B[39;49m\u001B[43m)\u001B[49m\u001B[43m:\u001B[49m\u001B[43m \u001B[49m\u001B[43mpop\u001B[49m\u001B[43m(\u001B[49m\u001B[43mk\u001B[49m\u001B[43m)\u001B[49m\u001B[43m)\u001B[49m\n\u001B[1;32m    210\u001B[0m     child\u001B[38;5;241m.\u001B[39m_parents[\u001B[38;5;28mid\u001B[39m(\u001B[38;5;28mself\u001B[39m)] \u001B[38;5;241m=\u001B[39m ref\n",
      "\u001B[0;31mKeyboardInterrupt\u001B[0m: "
     ]
    }
   ],
   "execution_count": 29
  }
 ],
 "metadata": {
  "kernelspec": {
   "name": "python3",
   "language": "python",
   "display_name": "Python 3 (ipykernel)"
  },
  "language_info": {
   "codemirror_mode": {
    "name": "ipython",
    "version": 3
   },
   "file_extension": ".py",
   "mimetype": "text/x-python",
   "name": "python",
   "nbconvert_exporter": "python",
   "pygments_lexer": "ipython3",
   "version": "3.10.11"
  }
 },
 "nbformat": 4,
 "nbformat_minor": 1
}
