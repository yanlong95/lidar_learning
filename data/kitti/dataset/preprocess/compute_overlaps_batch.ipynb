{
 "cells": [
  {
   "metadata": {},
   "cell_type": "markdown",
   "source": [
    "# Generate the Ground Truth Overlap\n",
    "The file to generate ground truth overlaps which used in training and validation.\n",
    "\n",
    "Note, before running this file, please make sure the following files are ready:\n",
    "\n",
    "   * overlaps.bin: the overlap matrix that contains the overlap between each pair of scans.\n",
    "   * poses.txt: the positions of each scan (for visualization)."
   ],
   "id": "dd514cd48ebfbade"
  },
  {
   "metadata": {
    "ExecuteTime": {
     "end_time": "2024-07-17T07:34:31.212556Z",
     "start_time": "2024-07-17T07:34:31.146075Z"
    }
   },
   "cell_type": "code",
   "source": [
    "import os\n",
    "import yaml\n",
    "import tqdm\n",
    "import numpy as np\n",
    "import matplotlib.pyplot as plt\n",
    "\n",
    "from normalize_data import normalize_data\n",
    "from tools.fileloader import load_xyz_rot, load_overlaps\n",
    "from tools.training_tools import splitting\n",
    "\n",
    "# auto-reload external modules\n",
    "%load_ext autoreload\n",
    "%autoreload 2\n"
   ],
   "id": "f597ef73b7ab8c43",
   "outputs": [
    {
     "name": "stdout",
     "output_type": "stream",
     "text": [
      "The autoreload extension is already loaded. To reload it, use:\n",
      "  %reload_ext autoreload\n"
     ]
    }
   ],
   "execution_count": 15
  },
  {
   "metadata": {},
   "cell_type": "markdown",
   "source": [
    "## Load Configuration\n",
    "Modify the configuration in *config/gen_gt_overlap.yml*."
   ],
   "id": "dd0e8bad56c3bf4f"
  },
  {
   "metadata": {
    "ExecuteTime": {
     "end_time": "2024-07-17T08:26:46.280163Z",
     "start_time": "2024-07-17T08:26:46.252517Z"
    }
   },
   "cell_type": "code",
   "source": [
    "# load config file\n",
    "config_path = '/home/vectr/PycharmProjects/lidar_learning/data/kitti/dataset/config_kitti.yml'\n",
    "config = yaml.safe_load(open(config_path))\n",
    "\n",
    "data_root = config['data_root']\n",
    "sequences = config['sequences']\n",
    "sequence = sequences[1]\n",
    "\n",
    "overlaps_matrix_path = os.path.join(data_root, sequence, 'overlaps/overlaps.bin')  # the overlaps matrix in shape (num_scans, num_scans)\n",
    "overlaps_batch_path = os.path.join(data_root, sequence, 'overlaps')                # the folder to save the overlaps list (overlaps_batch.npy)\n",
    "poses_path = os.path.join(data_root, sequence, 'poses/poses.txt')                  # file of poses in global frame\n"
   ],
   "id": "fca2ae39706e696e",
   "outputs": [],
   "execution_count": 30
  },
  {
   "metadata": {},
   "cell_type": "markdown",
   "source": "## Generate Overlap and Yaw Ground Truth Array",
   "id": "247d977afb3ca81d"
  },
  {
   "metadata": {
    "ExecuteTime": {
     "end_time": "2024-07-17T08:26:49.139023Z",
     "start_time": "2024-07-17T08:26:49.094071Z"
    }
   },
   "cell_type": "code",
   "source": [
    "overlaps_matrix = load_overlaps(overlaps_matrix_path)\n",
    "print(f'Matrix shape: {overlaps_matrix.shape}.')\n",
    "\n",
    "xyz, _ = load_xyz_rot(poses_path)\n",
    "print(f'Positions shape: {xyz.shape}.')\n"
   ],
   "id": "d66a38a62f4d96b",
   "outputs": [
    {
     "name": "stdout",
     "output_type": "stream",
     "text": [
      "Matrix shape: (1101, 1101).\n",
      "Positions shape: (1101, 3).\n"
     ]
    }
   ],
   "execution_count": 31
  },
  {
   "metadata": {},
   "cell_type": "markdown",
   "source": "## Visualize the Overlaps Matrix",
   "id": "4c4d50b765bd6c7a"
  },
  {
   "metadata": {
    "ExecuteTime": {
     "end_time": "2024-07-17T08:29:03.170461Z",
     "start_time": "2024-07-17T08:26:51.613276Z"
    }
   },
   "cell_type": "code",
   "source": [
    "# \"00\": 0.30,\n",
    "overlap_thresh = 0.30\n",
    "\n",
    "%matplotlib qt\n",
    "num_scans = xyz.shape[0]\n",
    "for i in tqdm.tqdm(range(num_scans)):\n",
    "    overlaps_i = overlaps_matrix[i, :]\n",
    "    xyz_pos_i = xyz[overlaps_i >= overlap_thresh, :]\n",
    "    xyz_neg_i = xyz[overlaps_i < overlap_thresh, :]\n",
    "\n",
    "    plt.clf()\n",
    "    plt.scatter(xyz[:, 0], xyz[:, 1], c='b', label='trajectory')\n",
    "    plt.scatter(xyz_pos_i[:, 0], xyz_pos_i[:, 1], c='y', label='positive')\n",
    "    plt.scatter(xyz[i, 0], xyz[i, 1], c='g', label=f'scan {i+1}')\n",
    "    plt.legend()\n",
    "    plt.show()\n",
    "    plt.pause(0.001)\n"
   ],
   "id": "5168869654a65cdc",
   "outputs": [
    {
     "name": "stderr",
     "output_type": "stream",
     "text": [
      "100%|██████████| 1101/1101 [02:11<00:00,  8.37it/s]\n"
     ]
    }
   ],
   "execution_count": 32
  },
  {
   "metadata": {},
   "cell_type": "markdown",
   "source": [
    "## Reformat Overlaps Matrix (to n^2 * 4 Table)\n",
    "Reformat the overlaps matrix to a table with shape (n^2, 4), where n is the number of scans."
   ],
   "id": "305c0b865b832b7e"
  },
  {
   "metadata": {
    "ExecuteTime": {
     "end_time": "2024-07-17T08:29:10.703676Z",
     "start_time": "2024-07-17T08:29:10.564894Z"
    }
   },
   "cell_type": "code",
   "source": [
    "# save overlaps information in a table, col0: source scan path, col1: reference scan path, col2: overlap between source and reference scans, col3: overlap threshold\n",
    "num_scans = xyz.shape[0]\n",
    "overlaps = []\n",
    "overlaps_table = np.empty((num_scans**2, 4))\n",
    "\n",
    "for i in tqdm.tqdm(range(num_scans)):\n",
    "    overlaps_i = np.zeros((num_scans, 4))\n",
    "    overlaps_i[:, 0] = np.ones(num_scans, dtype=int) * i\n",
    "    overlaps_i[:, 1] = np.arange(num_scans, dtype=int)\n",
    "    overlaps_i[:, 2] = overlaps_matrix[i, :]\n",
    "    overlaps_i[:, 3] = np.ones(num_scans, dtype=float) * overlap_thresh\n",
    "    overlaps.append(overlaps_i)\n",
    "    overlaps_table[num_scans*i:num_scans*(i+1), :] = overlaps_i\n",
    "\n",
    "print(f'Number of pairs: {overlaps_table.shape}')\n"
   ],
   "id": "b95518cf2ce9d4c8",
   "outputs": [
    {
     "name": "stderr",
     "output_type": "stream",
     "text": [
      "100%|██████████| 1101/1101 [00:00<00:00, 16375.87it/s]"
     ]
    },
    {
     "name": "stdout",
     "output_type": "stream",
     "text": [
      "Number of pairs: (1212201, 4)\n"
     ]
    },
    {
     "name": "stderr",
     "output_type": "stream",
     "text": [
      "\n"
     ]
    }
   ],
   "execution_count": 33
  },
  {
   "metadata": {},
   "cell_type": "markdown",
   "source": [
    "## Histogram of Overlaps Distribution \n",
    "Plot the histogram which is used to normalize the dataset."
   ],
   "id": "2b6e89c4be266172"
  },
  {
   "metadata": {
    "ExecuteTime": {
     "end_time": "2024-07-17T08:29:27.032507Z",
     "start_time": "2024-07-17T08:29:26.707287Z"
    }
   },
   "cell_type": "code",
   "source": [
    "%matplotlib inline\n",
    "\n",
    "# only show tail bins\n",
    "min_overlap_show = 0.2\n",
    "max_overlap_show = 1.0\n",
    "overlaps = overlaps_table[:,2]\n",
    "\n",
    "_, _, patches = plt.hist(overlaps[(overlaps <= max_overlap_show) & (overlaps >= min_overlap_show)], int((max_overlap_show-min_overlap_show)/0.1), width=0.085)\n",
    "plt.bar_label(patches)\n",
    "plt.title('Overlap Distribution')\n",
    "plt.xlabel('Overlap')\n",
    "plt.ylabel('Number of Pairs')\n",
    "plt.show()\n"
   ],
   "id": "7e5a2d32466b5036",
   "outputs": [
    {
     "data": {
      "text/plain": [
       "<Figure size 640x480 with 1 Axes>"
      ],
      "image/png": "[encoded data removed]"
     },
     "metadata": {},
     "output_type": "display_data"
    }
   ],
   "execution_count": 34
  },
  {
   "metadata": {},
   "cell_type": "markdown",
   "source": [
    "## Normalize Overlaps Distribution\n",
    "We need balance the number of positive and negative data pairs for training. Moreover, we can control the number of pairs to adjust the training time."
   ],
   "id": "bb09ad38d9e4fd68"
  },
  {
   "metadata": {
    "ExecuteTime": {
     "end_time": "2024-07-17T08:30:13.703381Z",
     "start_time": "2024-07-17T08:30:13.126267Z"
    }
   },
   "cell_type": "code",
   "source": [
    "neg_pos_threshold = round(overlap_thresh / 0.1)\n",
    "max_num_pos_each_scan = 30  # if yaw_enhance is True, the number of positive pairs will be a little larger than the max_num_pos_each_scan\n",
    "min_num_neg_each_scan = 10   # make sure to roughly balance the number of positive and negative pairs\n",
    "\n",
    "overlaps_table_normalized, pos_indices, neg_indices = normalize_data(overlaps_table, max_pos_thresh=max_num_pos_each_scan, min_neg_thresh=min_num_neg_each_scan, neg_pos_threshold=neg_pos_threshold, enhance_yaw=True)\n",
    "overlaps_normalized = overlaps_table_normalized[:,2]\n",
    "_, _, patches = plt.hist(overlaps_normalized, 10, width=0.085)\n",
    "plt.bar_label(patches)\n",
    "plt.title('Overlap Distribution')\n",
    "plt.xlabel('Overlap')\n",
    "plt.ylabel('Number of Pairs')\n",
    "plt.show()\n",
    "\n",
    "percent_keep = format(len(overlaps_table_normalized) / len(overlaps_table) * 100, \".2f\")\n",
    "num_pos = np.sum(overlaps_normalized >= neg_pos_threshold / 10)\n",
    "num_neg = np.sum(overlaps_normalized < neg_pos_threshold / 10)\n",
    "\n",
    "print(f\"Overlaps_table_normalized shape: {overlaps_table_normalized.shape}\")\n",
    "print(f\"Number of positive pairs: {num_pos}.\")\n",
    "print(f\"Number of negative pairs: {num_neg}.\")\n",
    "print(f\"Select {percent_keep}% data\")\n",
    "print(f\"Average {num_pos / np.sqrt(len(overlaps_table)):.2f} positive data per frame\")\n",
    "print(f\"Average {num_neg / np.sqrt(len(overlaps)):.2f} negative data per frame\")"
   ],
   "id": "e6451aa20c871c9e",
   "outputs": [
    {
     "name": "stderr",
     "output_type": "stream",
     "text": [
      "100%|██████████| 1101/1101 [00:00<00:00, 2642.98it/s]\n"
     ]
    },
    {
     "data": {
      "text/plain": [
       "<Figure size 640x480 with 1 Axes>"
      ],
      "image/png": "[encoded data removed]"
     },
     "metadata": {},
     "output_type": "display_data"
    },
    {
     "name": "stdout",
     "output_type": "stream",
     "text": [
      "Overlaps_table_normalized shape: (65016, 4)\n",
      "Number of positive pairs: 31986.\n",
      "Number of negative pairs: 33030.\n",
      "Select 5.36% data\n",
      "Average 29.05 positive data per frame\n",
      "Average 30.00 negative data per frame\n"
     ]
    }
   ],
   "execution_count": 35
  },
  {
   "metadata": {},
   "cell_type": "markdown",
   "source": [
    "## Generate Dataset Used for Training, Validation, and Testing \n",
    "Format the data in table to load data efficiently.\n",
    "\n",
    "max_num_pos = 100, max_num_neg = 100 \\\n",
    "col0: curr_scan_id \\\n",
    "col1: sequence \\\n",
    "col2: overlap_threshold \\\n",
    "col3: num_pos \\\n",
    "col4: num_neg \\\n",
    "col5-104: pos_ids \\\n",
    "col105-204: neg_ids \\\n",
    "(add overlaps in col205:404 if needed)\n"
   ],
   "id": "3ede4079ab88236e"
  },
  {
   "metadata": {
    "ExecuteTime": {
     "end_time": "2024-07-17T08:32:16.425185Z",
     "start_time": "2024-07-17T08:32:15.883936Z"
    }
   },
   "cell_type": "code",
   "source": [
    "# matrix shape: (num_scans, 5+max_num_pos+max_num_neg(+max_num_pos+max_num_neg))\n",
    "overlaps_batch = (-np.ones((num_scans, 405))).astype(object)\n",
    "\n",
    "# save positive and negative pairs for full dataset\n",
    "overlaps_batch[:, 0] = np.arange(num_scans)          # scan i (int)\n",
    "overlaps_batch[:, 1] = sequence                      # sequence (string)\n",
    "overlaps_batch[:, 2] = overlap_thresh                # overlap threshold (float)\n",
    "overlaps_batch[:, 3] = 0                             # number of positive pairs (int)\n",
    "overlaps_batch[:, 4] = 0                             # number of negative pairs (int)\n",
    "\n",
    "for i in range(overlaps_table_normalized.shape[0]):\n",
    "    curr_id = int(overlaps_table_normalized[i, 0])\n",
    "    ref_id = int(overlaps_table_normalized[i, 1])\n",
    "    overlap = overlaps_table_normalized[i, 2]\n",
    "    \n",
    "    if overlap >= overlap_thresh:\n",
    "        overlaps_batch[curr_id, overlaps_batch[curr_id, 3] + 5] = ref_id\n",
    "        overlaps_batch[curr_id, overlaps_batch[curr_id, 3] + 205] = overlap\n",
    "        overlaps_batch[curr_id, 3] += 1\n",
    "    else:\n",
    "        overlaps_batch[curr_id, overlaps_batch[curr_id, 4] + 105] = ref_id\n",
    "        overlaps_batch[curr_id, overlaps_batch[curr_id, 4] + 305] = overlap\n",
    "        overlaps_batch[curr_id, 4] += 1\n",
    "\n",
    "np.savez(os.path.join(overlaps_batch_path, 'overlaps_batch'), overlaps=overlaps_batch)\n"
   ],
   "id": "b3af2453946b40bb",
   "outputs": [],
   "execution_count": 36
  },
  {
   "metadata": {},
   "cell_type": "markdown",
   "source": [
    "## Visualize Generate Dataset (Option)\n",
    "Visualize the generated overlaps for a frame."
   ],
   "id": "7b7d1e569fdfed02"
  },
  {
   "metadata": {
    "ExecuteTime": {
     "end_time": "2024-07-17T08:32:46.189928Z",
     "start_time": "2024-07-17T08:32:19.125796Z"
    }
   },
   "cell_type": "code",
   "source": [
    "%matplotlib qt\n",
    "num_scans = xyz.shape[0]\n",
    "for i in tqdm.tqdm(range(num_scans)):\n",
    "    overlaps_i = overlaps_matrix[i, :]\n",
    "    curr_pos_indices = pos_indices[i]\n",
    "    curr_neg_indices = neg_indices[i]\n",
    "    xyz_curr_pos = xyz[curr_pos_indices, :]\n",
    "    xyz_curr_neg = xyz[curr_neg_indices, :]\n",
    "    \n",
    "    plt.clf()\n",
    "    plt.scatter(xyz[:, 0], xyz[:, 1], c='b', label='trajectory')\n",
    "    plt.scatter(xyz_curr_pos[:, 0], xyz_curr_pos[:, 1], c='y', label='positive')\n",
    "    plt.scatter(xyz_curr_neg[:, 0], xyz_curr_neg[:, 1], c='r', label='negative')\n",
    "    plt.scatter(xyz[i, 0], xyz[i, 1], c='g', label=f'scan {i+1}')\n",
    "    plt.legend()\n",
    "    plt.show()\n",
    "    plt.pause(0.001)"
   ],
   "id": "cbf68526f5bb7c2",
   "outputs": [
    {
     "name": "stderr",
     "output_type": "stream",
     "text": [
      " 20%|█▉        | 216/1101 [00:26<01:50,  8.02it/s]\n"
     ]
    },
    {
     "ename": "KeyboardInterrupt",
     "evalue": "",
     "output_type": "error",
     "traceback": [
      "\u001B[0;31m---------------------------------------------------------------------------\u001B[0m",
      "\u001B[0;31mKeyboardInterrupt\u001B[0m                         Traceback (most recent call last)",
      "Cell \u001B[0;32mIn[37], line 17\u001B[0m\n\u001B[1;32m     15\u001B[0m plt\u001B[38;5;241m.\u001B[39mlegend()\n\u001B[1;32m     16\u001B[0m plt\u001B[38;5;241m.\u001B[39mshow()\n\u001B[0;32m---> 17\u001B[0m \u001B[43mplt\u001B[49m\u001B[38;5;241;43m.\u001B[39;49m\u001B[43mpause\u001B[49m\u001B[43m(\u001B[49m\u001B[38;5;241;43m0.001\u001B[39;49m\u001B[43m)\u001B[49m\n",
      "File \u001B[0;32m~/anaconda3/envs/lidar_learning/lib/python3.10/site-packages/matplotlib/pyplot.py:582\u001B[0m, in \u001B[0;36mpause\u001B[0;34m(interval)\u001B[0m\n\u001B[1;32m    580\u001B[0m         canvas\u001B[38;5;241m.\u001B[39mdraw_idle()\n\u001B[1;32m    581\u001B[0m     show(block\u001B[38;5;241m=\u001B[39m\u001B[38;5;28;01mFalse\u001B[39;00m)\n\u001B[0;32m--> 582\u001B[0m     \u001B[43mcanvas\u001B[49m\u001B[38;5;241;43m.\u001B[39;49m\u001B[43mstart_event_loop\u001B[49m\u001B[43m(\u001B[49m\u001B[43minterval\u001B[49m\u001B[43m)\u001B[49m\n\u001B[1;32m    583\u001B[0m \u001B[38;5;28;01melse\u001B[39;00m:\n\u001B[1;32m    584\u001B[0m     time\u001B[38;5;241m.\u001B[39msleep(interval)\n",
      "File \u001B[0;32m~/anaconda3/envs/lidar_learning/lib/python3.10/site-packages/matplotlib/backends/backend_qt.py:421\u001B[0m, in \u001B[0;36mFigureCanvasQT.start_event_loop\u001B[0;34m(self, timeout)\u001B[0m\n\u001B[1;32m    418\u001B[0m \u001B[38;5;28;01mif\u001B[39;00m timeout \u001B[38;5;241m>\u001B[39m \u001B[38;5;241m0\u001B[39m:\n\u001B[1;32m    419\u001B[0m     _ \u001B[38;5;241m=\u001B[39m QtCore\u001B[38;5;241m.\u001B[39mQTimer\u001B[38;5;241m.\u001B[39msingleShot(\u001B[38;5;28mint\u001B[39m(timeout \u001B[38;5;241m*\u001B[39m \u001B[38;5;241m1000\u001B[39m), event_loop\u001B[38;5;241m.\u001B[39mquit)\n\u001B[0;32m--> 421\u001B[0m \u001B[38;5;28;01mwith\u001B[39;00m _maybe_allow_interrupt(event_loop):\n\u001B[1;32m    422\u001B[0m     qt_compat\u001B[38;5;241m.\u001B[39m_exec(event_loop)\n",
      "File \u001B[0;32m~/anaconda3/envs/lidar_learning/lib/python3.10/contextlib.py:142\u001B[0m, in \u001B[0;36m_GeneratorContextManager.__exit__\u001B[0;34m(self, typ, value, traceback)\u001B[0m\n\u001B[1;32m    140\u001B[0m \u001B[38;5;28;01mif\u001B[39;00m typ \u001B[38;5;129;01mis\u001B[39;00m \u001B[38;5;28;01mNone\u001B[39;00m:\n\u001B[1;32m    141\u001B[0m     \u001B[38;5;28;01mtry\u001B[39;00m:\n\u001B[0;32m--> 142\u001B[0m         \u001B[38;5;28;43mnext\u001B[39;49m\u001B[43m(\u001B[49m\u001B[38;5;28;43mself\u001B[39;49m\u001B[38;5;241;43m.\u001B[39;49m\u001B[43mgen\u001B[49m\u001B[43m)\u001B[49m\n\u001B[1;32m    143\u001B[0m     \u001B[38;5;28;01mexcept\u001B[39;00m \u001B[38;5;167;01mStopIteration\u001B[39;00m:\n\u001B[1;32m    144\u001B[0m         \u001B[38;5;28;01mreturn\u001B[39;00m \u001B[38;5;28;01mFalse\u001B[39;00m\n",
      "File \u001B[0;32m~/anaconda3/envs/lidar_learning/lib/python3.10/site-packages/matplotlib/backends/qt_compat.py:245\u001B[0m, in \u001B[0;36m_maybe_allow_interrupt\u001B[0;34m(qapp)\u001B[0m\n\u001B[1;32m    243\u001B[0m signal\u001B[38;5;241m.\u001B[39msignal(signal\u001B[38;5;241m.\u001B[39mSIGINT, old_sigint_handler)\n\u001B[1;32m    244\u001B[0m \u001B[38;5;28;01mif\u001B[39;00m handler_args \u001B[38;5;129;01mis\u001B[39;00m \u001B[38;5;129;01mnot\u001B[39;00m \u001B[38;5;28;01mNone\u001B[39;00m:\n\u001B[0;32m--> 245\u001B[0m     \u001B[43mold_sigint_handler\u001B[49m\u001B[43m(\u001B[49m\u001B[38;5;241;43m*\u001B[39;49m\u001B[43mhandler_args\u001B[49m\u001B[43m)\u001B[49m\n",
      "\u001B[0;31mKeyboardInterrupt\u001B[0m: "
     ]
    }
   ],
   "execution_count": 37
  }
 ],
 "metadata": {
  "kernelspec": {
   "display_name": "Python 3",
   "language": "python",
   "name": "python3"
  },
  "language_info": {
   "codemirror_mode": {
    "name": "ipython",
    "version": 2
   },
   "file_extension": ".py",
   "mimetype": "text/x-python",
   "name": "python",
   "nbconvert_exporter": "python",
   "pygments_lexer": "ipython2",
   "version": "2.7.6"
  }
 },
 "nbformat": 4,
 "nbformat_minor": 5
}
