{
 "cells": [
  {
   "metadata": {},
   "cell_type": "markdown",
   "source": [
    "# Range Image Projection\n",
    "The file is used to project the point clouds into range images. The range images are saved as png files. The range images are used as input to the network.\n",
    "\n",
    "Note, the range images are computed offline, no data augmentation used in the generation process. "
   ],
   "id": "393635022554b710"
  },
  {
   "cell_type": "code",
   "id": "initial_id",
   "metadata": {
    "collapsed": true,
    "ExecuteTime": {
     "end_time": "2024-07-04T11:10:48.818570Z",
     "start_time": "2024-07-04T11:10:48.796232Z"
    }
   },
   "source": [
    "import os\n",
    "import yaml\n",
    "import tqdm\n",
    "import cv2\n",
    "import numpy as np\n",
    "import matplotlib.pyplot as plt\n",
    "\n",
    "from utils_kitti import LaserScan\n",
    "from tools.fileloader import load_files\n",
    "\n",
    "# auto-reload external modules\n",
    "%load_ext autoreload\n",
    "%autoreload 2\n"
   ],
   "outputs": [
    {
     "name": "stdout",
     "output_type": "stream",
     "text": [
      "The autoreload extension is already loaded. To reload it, use:\n",
      "  %reload_ext autoreload\n"
     ]
    }
   ],
   "execution_count": 33
  },
  {
   "metadata": {
    "ExecuteTime": {
     "end_time": "2024-07-04T11:10:51.366632Z",
     "start_time": "2024-07-04T11:10:51.344711Z"
    }
   },
   "cell_type": "code",
   "source": [
    "sequences_num = ['00', '01', '02', '03', '04', '05', '06', '07', '08', '09', '10', '11', '12', '13', '14', '15', '16', '17', '18', '19', '20', '21']\n",
    "sequences_path = '/media/vectr/T7/Datasets/public_datasets/kitti/dataset/sequences'\n",
    "\n",
    "sequences = []\n",
    "for sequence_num in sequences_num:\n",
    "    sequence = {}\n",
    "    sequence['scans_folder'] = os.path.join(sequences_path, sequence_num, 'velodyne')\n",
    "    sequence['saving_folder'] = os.path.join(sequences_path, sequence_num, 'png_files')\n",
    "    sequences.append(sequence)\n"
   ],
   "id": "658af9e3df05c370",
   "outputs": [],
   "execution_count": 34
  },
  {
   "metadata": {
    "ExecuteTime": {
     "end_time": "2024-07-04T11:24:29.895423Z",
     "start_time": "2024-07-04T11:12:37.653186Z"
    }
   },
   "cell_type": "code",
   "source": [
    "%matplotlib qt\n",
    "\n",
    "scan = LaserScan(project=True)\n",
    "normalize = False\n",
    "\n",
    "for i in range(len(sequences_num)):\n",
    "    scans_folder = sequences[i]['scans_folder']            # point clouds folder path\n",
    "    saving_folder = sequences[i]['saving_folder']          # range images saving folder path\n",
    "    scans_path = load_files(scans_folder)                   # point cloud paths\n",
    "    \n",
    "    # create saving folder if not exist\n",
    "    if not os.path.exists(saving_folder):\n",
    "        os.makedirs(saving_folder)\n",
    "        \n",
    "    \n",
    "    if len(load_files(saving_folder)) > 0:                 # avoid repeat projection\n",
    "        print('Folder is not empty !!!')\n",
    "        continue\n",
    "    \n",
    "    for j in tqdm.tqdm(range(len(scans_path))):\n",
    "        scan.open_scan(scans_path[j])\n",
    "        range_img = scan.proj_range\n",
    "        \n",
    "        if normalize:\n",
    "            range_img = range_img / np.max(range_img)\n",
    "        \n",
    "        # save the projection as an image\n",
    "        filename = os.path.join(saving_folder, f'{str(j).zfill(6)}.png')\n",
    "        cv2.imwrite(filename, range_img) \n",
    "        "
   ],
   "id": "2c561fc4960dc99a",
   "outputs": [
    {
     "name": "stdout",
     "output_type": "stream",
     "text": [
      "Folder is not empty !!!\n"
     ]
    },
    {
     "name": "stderr",
     "output_type": "stream",
     "text": [
      "100%|██████████| 1101/1101 [00:17<00:00, 64.01it/s]\n",
      "100%|██████████| 4661/4661 [01:28<00:00, 52.90it/s]\n",
      "100%|██████████| 801/801 [00:14<00:00, 54.52it/s]\n",
      "100%|██████████| 271/271 [00:04<00:00, 55.04it/s]\n",
      "100%|██████████| 2761/2761 [00:52<00:00, 53.05it/s]\n",
      "100%|██████████| 1101/1101 [00:19<00:00, 56.13it/s]\n",
      "100%|██████████| 1101/1101 [00:20<00:00, 54.97it/s]\n",
      "100%|██████████| 4071/4071 [01:15<00:00, 54.19it/s]\n",
      "100%|██████████| 1591/1591 [00:28<00:00, 54.88it/s]\n",
      "100%|██████████| 1201/1201 [00:22<00:00, 53.54it/s]\n",
      "100%|██████████| 921/921 [00:16<00:00, 54.54it/s]\n",
      "100%|██████████| 1061/1061 [00:18<00:00, 56.34it/s]\n",
      "100%|██████████| 3281/3281 [00:56<00:00, 57.73it/s]\n",
      "100%|██████████| 631/631 [00:11<00:00, 53.94it/s]\n",
      "100%|██████████| 1901/1901 [00:35<00:00, 54.03it/s]\n",
      "100%|██████████| 1731/1731 [00:31<00:00, 55.05it/s]\n",
      "100%|██████████| 491/491 [00:08<00:00, 60.42it/s]\n",
      "100%|██████████| 1801/1801 [00:32<00:00, 55.84it/s]\n",
      "100%|██████████| 4981/4981 [01:32<00:00, 53.65it/s]\n",
      "100%|██████████| 831/831 [00:14<00:00, 55.88it/s]\n",
      "100%|██████████| 2721/2721 [00:48<00:00, 55.62it/s]\n"
     ]
    }
   ],
   "execution_count": 36
  }
 ],
 "metadata": {
  "kernelspec": {
   "display_name": "Python 3",
   "language": "python",
   "name": "python3"
  },
  "language_info": {
   "codemirror_mode": {
    "name": "ipython",
    "version": 2
   },
   "file_extension": ".py",
   "mimetype": "text/x-python",
   "name": "python",
   "nbconvert_exporter": "python",
   "pygments_lexer": "ipython2",
   "version": "2.7.6"
  }
 },
 "nbformat": 4,
 "nbformat_minor": 5
}
