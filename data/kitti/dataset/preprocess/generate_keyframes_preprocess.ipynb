{
 "cells": [
  {
   "metadata": {},
   "cell_type": "markdown",
   "source": [
    "# Generate Keyframes\n",
    "The file generates keyframes used for submap build. The keyframes should be computed by DLIOM directly. In this file, the (fake) keyframes are generated without SLAM algorithm."
   ],
   "id": "e935aba80c828a0c"
  },
  {
   "cell_type": "code",
   "id": "initial_id",
   "metadata": {
    "collapsed": true,
    "ExecuteTime": {
     "end_time": "2024-07-19T09:31:15.529531Z",
     "start_time": "2024-07-19T09:31:15.526997Z"
    }
   },
   "source": [
    "import os\n",
    "import shutil\n",
    "import yaml\n",
    "import numpy as np\n",
    "import matplotlib.pyplot as plt\n",
    "\n",
    "from tools.fileloader import load_files, load_xyz_rot, load_overlaps\n"
   ],
   "outputs": [],
   "execution_count": 83
  },
  {
   "metadata": {
    "ExecuteTime": {
     "end_time": "2024-07-19T09:31:17.133953Z",
     "start_time": "2024-07-19T09:31:17.124789Z"
    }
   },
   "cell_type": "code",
   "source": [
    "# load data\n",
    "config_path = '/home/vectr/PycharmProjects/lidar_learning/data/kitti/dataset/config_kitti.yml'\n",
    "config = yaml.safe_load(open(config_path))\n",
    "\n",
    "data_root = config['data_root']\n",
    "sequences = config['sequences']\n"
   ],
   "id": "6226d7c2d34eb8c6",
   "outputs": [],
   "execution_count": 84
  },
  {
   "metadata": {
    "ExecuteTime": {
     "end_time": "2024-07-19T09:33:13.774711Z",
     "start_time": "2024-07-19T09:32:53.099307Z"
    }
   },
   "cell_type": "code",
   "source": [
    "# load positions\n",
    "for sequence in sequences:\n",
    "    poses_path = os.path.join(data_root, sequence, 'poses/poses.txt')\n",
    "    overlaps_path = os.path.join(data_root, sequence, 'overlaps/overlaps.bin')\n",
    "    keyframes_path = os.path.join(data_root, sequence, 'keyframes')\n",
    "    \n",
    "    if not os.path.exists(keyframes_path):\n",
    "        os.makedirs(keyframes_path)\n",
    "    \n",
    "    xyz, _ = load_xyz_rot(poses_path)\n",
    "    overlaps = load_overlaps(overlaps_path)\n",
    "    \n",
    "    thresh_dist = 30.0\n",
    "    thresh_overlap = 0.1\n",
    "    \n",
    "    num_scans = xyz.shape[0]\n",
    "    keyframes_indices = []\n",
    "    \n",
    "    for i in range(num_scans):\n",
    "        # add first keyframe directly\n",
    "        if i == 0:\n",
    "            keyframes_indices.append(i)\n",
    "            continue\n",
    "        \n",
    "        new_keyframe = True\n",
    "        for j in keyframes_indices:\n",
    "            if np.linalg.norm(xyz[i] - xyz[j]) < thresh_dist and overlaps[i, j] > thresh_overlap:\n",
    "                new_keyframe = False\n",
    "                break \n",
    "        \n",
    "        if new_keyframe:\n",
    "            keyframes_indices.append(i)\n",
    "    \n",
    "    print(f'Sequence: {sequence}')\n",
    "    print(f'keyframes: {len(keyframes_indices)}, total: {num_scans}')\n",
    "    print(f'Avg keyframe interval: {num_scans / len(keyframes_indices)} \\n')\n",
    "    \n",
    "    # saving keyframes poses, original projected pngs, indices \n",
    "    png512_files = load_files(os.path.join(data_root, sequence, 'png_files/512/orig'))\n",
    "    png1024_files = load_files(os.path.join(data_root, sequence, 'png_files/1024/orig'))\n",
    "    \n",
    "    poses_kf = np.loadtxt(poses_path)[keyframes_indices]\n",
    "    png512_files_kf = [png512_files[i] for i in keyframes_indices]\n",
    "    png1024_files_kf = [png1024_files[i] for i in keyframes_indices]\n",
    "       \n",
    "    poses_path = os.path.join(keyframes_path, 'poses_kf.txt')\n",
    "    indices_path = os.path.join(keyframes_path, 'indices_kf.txt')\n",
    "    png1024_path = os.path.join(keyframes_path, 'png_files/1024')\n",
    "    png512_path = os.path.join(keyframes_path, 'png_files/512')\n",
    "    \n",
    "    if not os.path.exists(png1024_path):\n",
    "        os.makedirs(png1024_path)\n",
    "    if not os.path.exists(png512_path):\n",
    "        os.makedirs(png512_path)\n",
    "    \n",
    "    if len(load_files(png512_path)) != 0 or len(load_files(png1024_path)) != 0:   # in case repeat copy\n",
    "        print(f'Sequence {sequence} keyframes png files already exist!')\n",
    "        continue\n",
    "        \n",
    "    np.savetxt(poses_path, poses_kf, delimiter=' ')\n",
    "    np.savetxt(indices_path, keyframes_indices, delimiter=' ', fmt='%i')\n",
    "    \n",
    "    for f in png512_files_kf:\n",
    "        shutil.copy(f, png512_path)\n",
    "    for f in png1024_files_kf:\n",
    "        shutil.copy(f, png1024_path)      \n",
    "    "
   ],
   "id": "df6a8f61de045af5",
   "outputs": [
    {
     "name": "stdout",
     "output_type": "stream",
     "text": [
      "Sequence: 00\n",
      "keyframes: 93, total: 4541\n",
      "Avg keyframe interval: 48.82795698924731 \n",
      "\n",
      "Sequence: 01\n",
      "keyframes: 79, total: 1101\n",
      "Avg keyframe interval: 13.936708860759493 \n",
      "\n",
      "Sequence: 02\n",
      "keyframes: 150, total: 4661\n",
      "Avg keyframe interval: 31.073333333333334 \n",
      "\n",
      "Sequence: 03\n",
      "keyframes: 19, total: 801\n",
      "Avg keyframe interval: 42.1578947368421 \n",
      "\n",
      "Sequence: 04\n",
      "keyframes: 13, total: 271\n",
      "Avg keyframe interval: 20.846153846153847 \n",
      "\n",
      "Sequence: 05\n",
      "keyframes: 56, total: 2761\n",
      "Avg keyframe interval: 49.30357142857143 \n",
      "\n",
      "Sequence: 06\n",
      "keyframes: 15, total: 1101\n",
      "Avg keyframe interval: 73.4 \n",
      "\n",
      "Sequence: 07\n",
      "keyframes: 22, total: 1101\n",
      "Avg keyframe interval: 50.04545454545455 \n",
      "\n",
      "Sequence: 08\n",
      "keyframes: 91, total: 4071\n",
      "Avg keyframe interval: 44.73626373626374 \n",
      "\n",
      "Sequence: 09\n",
      "keyframes: 54, total: 1591\n",
      "Avg keyframe interval: 29.462962962962962 \n",
      "\n",
      "Sequence: 10\n",
      "keyframes: 30, total: 1201\n",
      "Avg keyframe interval: 40.03333333333333 \n",
      "\n",
      "Sequence: 11\n",
      "keyframes: 28, total: 921\n",
      "Avg keyframe interval: 32.892857142857146 \n",
      "\n",
      "Sequence: 12\n",
      "keyframes: 67, total: 1061\n",
      "Avg keyframe interval: 15.835820895522389 \n",
      "\n",
      "Sequence: 13\n",
      "keyframes: 70, total: 3281\n",
      "Avg keyframe interval: 46.871428571428574 \n",
      "\n",
      "Sequence: 14\n",
      "keyframes: 10, total: 631\n",
      "Avg keyframe interval: 63.1 \n",
      "\n",
      "Sequence: 15\n",
      "keyframes: 40, total: 1901\n",
      "Avg keyframe interval: 47.525 \n",
      "\n",
      "Sequence: 16\n",
      "keyframes: 42, total: 1731\n",
      "Avg keyframe interval: 41.214285714285715 \n",
      "\n",
      "Sequence: 17\n",
      "keyframes: 29, total: 491\n",
      "Avg keyframe interval: 16.93103448275862 \n",
      "\n",
      "Sequence: 18\n",
      "keyframes: 39, total: 1801\n",
      "Avg keyframe interval: 46.17948717948718 \n",
      "\n",
      "Sequence: 19\n",
      "keyframes: 123, total: 4981\n",
      "Avg keyframe interval: 40.49593495934959 \n",
      "\n",
      "Sequence: 20\n",
      "keyframes: 23, total: 831\n",
      "Avg keyframe interval: 36.130434782608695 \n",
      "\n",
      "Sequence: 21\n",
      "keyframes: 190, total: 2721\n",
      "Avg keyframe interval: 14.321052631578947 \n",
      "\n"
     ]
    }
   ],
   "execution_count": 86
  },
  {
   "metadata": {
    "ExecuteTime": {
     "end_time": "2024-07-19T08:47:30.448812Z",
     "start_time": "2024-07-19T08:47:30.424007Z"
    }
   },
   "cell_type": "code",
   "source": [
    "# visualize keyframes\n",
    "xyz_kf = xyz[keyframes_indices]\n",
    "\n",
    "%matplotlib qt\n",
    "plt.scatter(xyz[:, 0], xyz[:, 1], c='b')\n",
    "plt.scatter(xyz_kf[:, 0], xyz_kf[:, 1], c='pink')\n",
    "plt.axis('equal')\n",
    "plt.show()\n"
   ],
   "id": "cd6454a30d382489",
   "outputs": [],
   "execution_count": 72
  },
  {
   "metadata": {},
   "cell_type": "markdown",
   "source": "dense keyframes sequences: [01, 04, 12, 17, 21]",
   "id": "ef6d937729c16000"
  }
 ],
 "metadata": {
  "kernelspec": {
   "display_name": "Python 3",
   "language": "python",
   "name": "python3"
  },
  "language_info": {
   "codemirror_mode": {
    "name": "ipython",
    "version": 2
   },
   "file_extension": ".py",
   "mimetype": "text/x-python",
   "name": "python",
   "nbconvert_exporter": "python",
   "pygments_lexer": "ipython2",
   "version": "2.7.6"
  }
 },
 "nbformat": 4,
 "nbformat_minor": 5
}
